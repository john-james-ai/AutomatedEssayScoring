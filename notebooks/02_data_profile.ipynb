{
 "cells": [
  {
   "cell_type": "markdown",
   "metadata": {},
   "source": [
    "# Data  <a class=\"anchor\" id=\"data-overview\"></a>\n",
    "These data have been provided by the Georgia State University and the Learning Agency Lab for the Kaggle competition, “Feedback Prize – Predicting Effective Arguments”, They contain argumentative essays written by U.S. students in grades 6-12. Each essay has been annotated with discourse elements  commonly found in argumentative writing:\n",
    "- Lead - an introduction that begins with a statistic, a quotation, a description, or some other device to grab the reader’s attention and point toward the thesis\n",
    "- Position - an opinion or conclusion on the main question\n",
    "- Claim - a claim that supports the position\n",
    "- Counterclaim - a claim that refutes another claim or gives an opposing reason to the position\n",
    "- Rebuttal - a claim that refutes a counterclaim\n",
    "- Evidence - ideas or examples that support claims, counterclaims, or rebuttals.\n",
    "- Concluding Statement - a concluding statement that restates the claims\n",
    "\n",
    "The text classification task is to predict the quality of each discourse within each essay as one of:\n",
    "- Ineffective\n",
    "- Adequate\n",
    "- Effective\n",
    "\n",
    "The dataset is comprised of training data and example test data.\n",
    "\n",
    "**Training Data**\n",
    "The training dataset consists of a .csv file and a directory containing the full-text essays. Note, that parts of the full-text essays are not annotated and are not part of the training.csv file. Annotated discourse elements for each essay, including:     \n",
    "- discourse_id - ID code for discourse element     \n",
    "- essay_id - ID code for essay response. This ID code corresponds to the name of the full-text file in the train/ folder.     \n",
    "- discourse_text - Text of discourse element.     \n",
    "- discourse_type - Class label of discourse element.     \n",
    "- discourse_type_num - Enumerated class label of discourse element.   \n",
    "- discourse_effectiveness - Quality rating of discourse element, the target.      \n",
    "\n",
    "**Example Test Data**\n",
    "The example test data consists of:    \n",
    "- test/ - A folder containing an example essay from the test set. The actual test set comprises about 3,000 essays in a format similar to the training set essays.    \n",
    "- test.csv - Annotations for the test set essays, containing all of the fields of train.csv except the target, discourse_effectiveness.   \n",
    "- sample_submission.csv - A sample submission file in the correct format.    \n",
    "\n",
    "**Table of Contents**\n",
    "* [Setup](#setup)    \n",
    "    * [Parameters](#parameters)    \n",
    "    * [Package Dependency Installation](#installation)    \n",
    "    * [Package Imports](#packages)     \n",
    "    * [Module Imports](#modules)  \n",
    "    * [Configuration](#config)     \n",
    "* [Data Inspection](#inspect)       \n",
    "    * [Overview](#overview)     \n",
    "    * [Cardinality](#cardinality)     \n",
    "    * [Value Counts](#value_counts)\n",
    "    * [Null Values](#nulls)     \n",
    "    * [Memory Size](#memory)  \n",
    "    * [Alphabetic Characters](#alpha)     \n",
    "    * [Numeric Characters](#numerics)      \n",
    "    * [Special Characters](#special)            \n",
    "    * [Control Characters](#control)    \n",
    "    * [Punctuation](#punctuation)            \n",
    "    * [Words](#words)       \n",
    "    * [Stop Words Ratio](#stopwords)           \n",
    "    * [Upper Case Words Ratio](#upper)      \n",
    "    * [Word Length](#word_length)   \n",
    "    * [Sentences](#sentences)     \n",
    "    * [Sentence Length](#sentence_length)      \n",
    "    \n",
    "        \n",
    "        \n",
    "\n",
    "To begin, let's install the dependencies"
   ]
  },
  {
   "cell_type": "markdown",
   "metadata": {},
   "source": [
    "## Setup <a class=\"anchor\" id=\"setup\"></a>\n",
    "We'll ensure that all package dependencies are present."
   ]
  },
  {
   "cell_type": "markdown",
   "metadata": {},
   "source": [
    "### Parameters <a class=\"anchor\" id=\"parameters\"></a>"
   ]
  },
  {
   "cell_type": "code",
   "execution_count": 1,
   "metadata": {},
   "outputs": [],
   "source": [
    "NLTK_PUNKT_DIR = '~/nltk_data/tokenizers/punkt'   \n",
    "NLTK_STOPWORDS_DIR = '~/nltk_data/corpus/stopwords'   \n",
    "RAW_TRAIN_DISCOURSE = \"./data/fpe2022/0_raw/train.csv\"\n",
    "FIG_SIZE = (10,5)\n",
    "FIG_HEIGHT  = 4\n",
    "FIG_ASPECT = 3"
   ]
  },
  {
   "cell_type": "markdown",
   "metadata": {},
   "source": [
    "### Package Dependency Installation <a class=\"anchor\" id=\"installation\"></a>"
   ]
  },
  {
   "cell_type": "code",
   "execution_count": 2,
   "metadata": {},
   "outputs": [],
   "source": [
    "# Uncomment to install required packages\n",
    "#%%capture\n",
    "# !conda install -S -q -c conda-forge -y pandas\n",
    "# !conda install -S -q -c conda-forge -y matplotlib\n",
    "# !conda install -S -q -c conda-forge -y numpy\n",
    "# !conda install -S -q -c conda-forge -y nltk\n",
    "# !conda install -S -q -c conda-forge -y seaborn\n",
    "# !conda install -S -q -c conda-forge -y scikit-learn\n",
    "# !conda install -S -q -c conda-forge -y gensim\n",
    "# !conda install -S -q -c conda-forge -y pyldavis\n",
    "# !conda install -S -q -c conda-forge -y wordcloud\n",
    "# !conda install -S -q -c conda-forge -y textblob\n",
    "# !conda install -S -q -c conda-forge -y spacy\n",
    "# !conda install -S -q -c conda-forge -y textstat\n"
   ]
  },
  {
   "cell_type": "markdown",
   "metadata": {},
   "source": [
    "### Package Imports <a class=\"anchor\" id=\"packages\"></a>"
   ]
  },
  {
   "cell_type": "code",
   "execution_count": 3,
   "metadata": {},
   "outputs": [
    {
     "name": "stderr",
     "output_type": "stream",
     "text": [
      "/home/john/anaconda3/envs/fpe/lib/python3.8/site-packages/scipy/__init__.py:146: UserWarning: A NumPy version >=1.16.5 and <1.23.0 is required for this version of SciPy (detected version 1.23.1\n",
      "  warnings.warn(f\"A NumPy version >={np_minversion} and <{np_maxversion}\"\n"
     ]
    }
   ],
   "source": [
    "import pandas as pd\n",
    "import numpy as np\n",
    "import matplotlib.pyplot as plt\n",
    "import seaborn as sns\n",
    "import logging\n",
    "import logging.config\n",
    "import nltk\n",
    "from IPython.display import display, HTML\n",
    "# import spacy\n",
    "# import os\n",
    "# import unicodedata\n",
    "# import sklearn as skl\n",
    "# import gensim\n",
    "# import pyLDAvis\n",
    "# import wordcloud\n",
    "# import textblob\n",
    "# import textstat"
   ]
  },
  {
   "cell_type": "markdown",
   "metadata": {},
   "source": [
    "### Module Imports <a class=\"anchor\" id=\"modules\"></a>"
   ]
  },
  {
   "cell_type": "code",
   "execution_count": 4,
   "metadata": {},
   "outputs": [],
   "source": [
    "# Local Imports \n",
    "from fpe.utils.log_config import LOG_CONFIG\n",
    "from fpe.data.profile import TextProfiler, FeatureExtractor\n",
    "from fpe.utils.pprint import print_int as pint\n",
    "from fpe.utils.pprint import print_float as pfloat\n",
    "%matplotlib inline"
   ]
  },
  {
   "cell_type": "markdown",
   "metadata": {},
   "source": [
    "### Configurations <a class=\"anchor\" id=\"config\"></a>"
   ]
  },
  {
   "cell_type": "code",
   "execution_count": 5,
   "metadata": {},
   "outputs": [
    {
     "name": "stderr",
     "output_type": "stream",
     "text": [
      "[nltk_data] Downloading package punkt to /home/john/nltk_data...\n",
      "[nltk_data]   Package punkt is already up-to-date!\n"
     ]
    },
    {
     "data": {
      "text/plain": [
       "True"
      ]
     },
     "execution_count": 5,
     "metadata": {},
     "output_type": "execute_result"
    },
    {
     "name": "stderr",
     "output_type": "stream",
     "text": [
      "[nltk_data] Downloading package stopwords to /home/john/nltk_data...\n",
      "[nltk_data]   Package stopwords is already up-to-date!\n"
     ]
    },
    {
     "data": {
      "text/plain": [
       "True"
      ]
     },
     "execution_count": 5,
     "metadata": {},
     "output_type": "execute_result"
    }
   ],
   "source": [
    "# Package specific dependencies\n",
    "logging.config.dictConfig(LOG_CONFIG)\n",
    "logger = logging.getLogger(__name__)\n",
    "\n",
    "# Seaborn\n",
    "sns.set_palette(\"Blues_r\")\n",
    "sns.set_style(\"whitegrid\")\n",
    "\n",
    "# NLTK \n",
    "if not os.path.exists(NLTK_PUNKT_DIR):\n",
    "    nltk.download('punkt')\n",
    "if not os.path.exists(NLTK_STOPWORDS_DIR):\n",
    "    nltk.download('stopwords')\n",
    "\n",
    "# Pandas\n",
    "pd.options.display.float_format = '{:,.2f}'.format\n",
    "pd.set_option(\"display.max_rows\", 100)\n",
    "pd.set_option(\"display.max_columns\", 20)\n",
    "pd.set_option(\"display.max_colwidth\", 5000)\n"
   ]
  },
  {
   "cell_type": "markdown",
   "metadata": {},
   "source": [
    "## Data Inspection <a class=\"anchor\" id=\"inspect\"></a>\n",
    "Our intent with this inspection of the training set is to get a sense of the features and quality of the data. Here, we examine cardinality, character, word, and sentence counts, special characters, and any aspects having text preprocessing implications. Let's read the data."
   ]
  },
  {
   "cell_type": "code",
   "execution_count": 6,
   "metadata": {},
   "outputs": [],
   "source": [
    "fpe = pd.read_csv(RAW_TRAIN_DISCOURSE, encoding='utf-8')\n"
   ]
  },
  {
   "cell_type": "markdown",
   "metadata": {},
   "source": [
    "### Overview <a class=\"anchor\" id=\"overview\"></a>\n",
    "The essential dataset is the train.csv file, containing discourse and essay identifiers, the discourse text, the discourse type, and finally the rating."
   ]
  },
  {
   "cell_type": "code",
   "execution_count": 7,
   "metadata": {},
   "outputs": [
    {
     "data": {
      "text/html": [
       "<div>\n",
       "<style scoped>\n",
       "    .dataframe tbody tr th:only-of-type {\n",
       "        vertical-align: middle;\n",
       "    }\n",
       "\n",
       "    .dataframe tbody tr th {\n",
       "        vertical-align: top;\n",
       "    }\n",
       "\n",
       "    .dataframe thead th {\n",
       "        text-align: right;\n",
       "    }\n",
       "</style>\n",
       "<table border=\"1\" class=\"dataframe\">\n",
       "  <thead>\n",
       "    <tr style=\"text-align: right;\">\n",
       "      <th></th>\n",
       "      <th>discourse_id</th>\n",
       "      <th>essay_id</th>\n",
       "      <th>discourse_text</th>\n",
       "      <th>discourse_type</th>\n",
       "      <th>discourse_effectiveness</th>\n",
       "    </tr>\n",
       "  </thead>\n",
       "  <tbody>\n",
       "    <tr>\n",
       "      <th>0</th>\n",
       "      <td>0013cc385424</td>\n",
       "      <td>007ACE74B050</td>\n",
       "      <td>Hi, i'm Isaac, i'm going to be writing about how this face on Mars is a natural landform or if there is life on Mars that made it. The story is about how NASA took a picture of Mars and a face was seen on the planet. NASA doesn't know if the landform was created by life on Mars, or if it is just a natural landform.</td>\n",
       "      <td>Lead</td>\n",
       "      <td>Adequate</td>\n",
       "    </tr>\n",
       "    <tr>\n",
       "      <th>1</th>\n",
       "      <td>9704a709b505</td>\n",
       "      <td>007ACE74B050</td>\n",
       "      <td>On my perspective, I think that the face is a natural landform because I dont think that there is any life on Mars. In these next few paragraphs, I'll be talking about how I think that is is a natural landform</td>\n",
       "      <td>Position</td>\n",
       "      <td>Adequate</td>\n",
       "    </tr>\n",
       "    <tr>\n",
       "      <th>2</th>\n",
       "      <td>c22adee811b6</td>\n",
       "      <td>007ACE74B050</td>\n",
       "      <td>I think that the face is a natural landform because there is no life on Mars that we have descovered yet</td>\n",
       "      <td>Claim</td>\n",
       "      <td>Adequate</td>\n",
       "    </tr>\n",
       "    <tr>\n",
       "      <th>3</th>\n",
       "      <td>a10d361e54e4</td>\n",
       "      <td>007ACE74B050</td>\n",
       "      <td>If life was on Mars, we would know by now. The reason why I think it is a natural landform because, nobody live on Mars in order to create the figure. It says in paragraph 9, \"It's not easy to target Cydonia,\" in which he is saying that its not easy to know if it is a natural landform at this point. In all that they're saying, its probably a natural landform.</td>\n",
       "      <td>Evidence</td>\n",
       "      <td>Adequate</td>\n",
       "    </tr>\n",
       "    <tr>\n",
       "      <th>4</th>\n",
       "      <td>db3e453ec4e2</td>\n",
       "      <td>007ACE74B050</td>\n",
       "      <td>People thought that the face was formed by alieans because they thought that there was life on Mars.</td>\n",
       "      <td>Counterclaim</td>\n",
       "      <td>Adequate</td>\n",
       "    </tr>\n",
       "  </tbody>\n",
       "</table>\n",
       "</div>"
      ],
      "text/plain": [
       "   discourse_id      essay_id  \\\n",
       "0  0013cc385424  007ACE74B050   \n",
       "1  9704a709b505  007ACE74B050   \n",
       "2  c22adee811b6  007ACE74B050   \n",
       "3  a10d361e54e4  007ACE74B050   \n",
       "4  db3e453ec4e2  007ACE74B050   \n",
       "\n",
       "                                                                                                                                                                                                                                                                                                                                                               discourse_text  \\\n",
       "0                                               Hi, i'm Isaac, i'm going to be writing about how this face on Mars is a natural landform or if there is life on Mars that made it. The story is about how NASA took a picture of Mars and a face was seen on the planet. NASA doesn't know if the landform was created by life on Mars, or if it is just a natural landform.    \n",
       "1                                                                                                                                                          On my perspective, I think that the face is a natural landform because I dont think that there is any life on Mars. In these next few paragraphs, I'll be talking about how I think that is is a natural landform    \n",
       "2                                                                                                                                                                                                                                                                   I think that the face is a natural landform because there is no life on Mars that we have descovered yet    \n",
       "3  If life was on Mars, we would know by now. The reason why I think it is a natural landform because, nobody live on Mars in order to create the figure. It says in paragraph 9, \"It's not easy to target Cydonia,\" in which he is saying that its not easy to know if it is a natural landform at this point. In all that they're saying, its probably a natural landform.    \n",
       "4                                                                                                                                                                                                                                                                       People thought that the face was formed by alieans because they thought that there was life on Mars.    \n",
       "\n",
       "  discourse_type discourse_effectiveness  \n",
       "0           Lead                Adequate  \n",
       "1       Position                Adequate  \n",
       "2          Claim                Adequate  \n",
       "3       Evidence                Adequate  \n",
       "4   Counterclaim                Adequate  "
      ]
     },
     "execution_count": 7,
     "metadata": {},
     "output_type": "execute_result"
    }
   ],
   "source": [
    "fpe.head()"
   ]
  },
  {
   "cell_type": "markdown",
   "metadata": {},
   "source": [
    "### Cardinality <a class=\"anchor\" id=\"cardinality\"></a>\n",
    "Let's check the cardinality of discourses, essays, texts, types, and effectiveness ratings. From this point forward, we'll use our TextProfiler object to extract features from the data."
   ]
  },
  {
   "cell_type": "code",
   "execution_count": 8,
   "metadata": {},
   "outputs": [
    {
     "data": {
      "text/html": [
       "<div>\n",
       "<style scoped>\n",
       "    .dataframe tbody tr th:only-of-type {\n",
       "        vertical-align: middle;\n",
       "    }\n",
       "\n",
       "    .dataframe tbody tr th {\n",
       "        vertical-align: top;\n",
       "    }\n",
       "\n",
       "    .dataframe thead th {\n",
       "        text-align: right;\n",
       "    }\n",
       "</style>\n",
       "<table border=\"1\" class=\"dataframe\">\n",
       "  <thead>\n",
       "    <tr style=\"text-align: right;\">\n",
       "      <th></th>\n",
       "      <th>Cardinality</th>\n",
       "    </tr>\n",
       "  </thead>\n",
       "  <tbody>\n",
       "    <tr>\n",
       "      <th>discourse_id</th>\n",
       "      <td>36765</td>\n",
       "    </tr>\n",
       "    <tr>\n",
       "      <th>essay_id</th>\n",
       "      <td>4191</td>\n",
       "    </tr>\n",
       "    <tr>\n",
       "      <th>discourse_text</th>\n",
       "      <td>36691</td>\n",
       "    </tr>\n",
       "    <tr>\n",
       "      <th>discourse_type</th>\n",
       "      <td>7</td>\n",
       "    </tr>\n",
       "    <tr>\n",
       "      <th>discourse_effectiveness</th>\n",
       "      <td>3</td>\n",
       "    </tr>\n",
       "  </tbody>\n",
       "</table>\n",
       "</div>"
      ],
      "text/plain": [
       "                         Cardinality\n",
       "discourse_id                   36765\n",
       "essay_id                        4191\n",
       "discourse_text                 36691\n",
       "discourse_type                     7\n",
       "discourse_effectiveness            3"
      ]
     },
     "execution_count": 8,
     "metadata": {},
     "output_type": "execute_result"
    }
   ],
   "source": [
    "profiler = TextProfiler(data=fpe, text_col='discourse_text')\n",
    "profiler.cardinality"
   ]
  },
  {
   "cell_type": "markdown",
   "metadata": {},
   "source": [
    "It seems we have some duplication in discourse text as we have 74 fewer unique essays than discourse identifiers. Let's examine this a bit closer."
   ]
  },
  {
   "cell_type": "code",
   "execution_count": 9,
   "metadata": {},
   "outputs": [
    {
     "data": {
      "text/html": [
       "<div>\n",
       "<style scoped>\n",
       "    .dataframe tbody tr th:only-of-type {\n",
       "        vertical-align: middle;\n",
       "    }\n",
       "\n",
       "    .dataframe tbody tr th {\n",
       "        vertical-align: top;\n",
       "    }\n",
       "\n",
       "    .dataframe thead th {\n",
       "        text-align: right;\n",
       "    }\n",
       "</style>\n",
       "<table border=\"1\" class=\"dataframe\">\n",
       "  <thead>\n",
       "    <tr style=\"text-align: right;\">\n",
       "      <th></th>\n",
       "      <th>Num Duplicates</th>\n",
       "      <th>Pct Duplicates</th>\n",
       "    </tr>\n",
       "    <tr>\n",
       "      <th>Column</th>\n",
       "      <th></th>\n",
       "      <th></th>\n",
       "    </tr>\n",
       "  </thead>\n",
       "  <tbody>\n",
       "    <tr>\n",
       "      <th>discourse_text</th>\n",
       "      <td>119</td>\n",
       "      <td>0.32</td>\n",
       "    </tr>\n",
       "  </tbody>\n",
       "</table>\n",
       "</div>"
      ],
      "text/plain": [
       "                Num Duplicates  Pct Duplicates\n",
       "Column                                        \n",
       "discourse_text             119            0.32"
      ]
     },
     "execution_count": 9,
     "metadata": {},
     "output_type": "execute_result"
    },
    {
     "data": {
      "text/plain": [
       "296      The use of the Facial Action Coding System to read the emotional expressions of students in a classroom is valuable \n",
       "370                                                                               Summer projects should be teacher-designed \n",
       "1009                                                                              Summer projects should be teacher-designed \n",
       "1552                                                                              Summer projects should be teacher-designed \n",
       "1667                                                                              Summer projects should be student-designed \n",
       "                                                                 ...                                                         \n",
       "35488                                                                                                   you can help others. \n",
       "35493                                                                                                   you can help others. \n",
       "35969                                                                                                              opinions, \n",
       "35973                                                                                                              opinions, \n",
       "36587                                               When people ask for advice, they sometimes talk to more than one person. \n",
       "Name: discourse_text, Length: 119, dtype: object"
      ]
     },
     "execution_count": 9,
     "metadata": {},
     "output_type": "execute_result"
    }
   ],
   "source": [
    "profiler.duplicate_text['stats']\n",
    "profiler.duplicate_text['data']\n"
   ]
  },
  {
   "cell_type": "markdown",
   "metadata": {},
   "source": [
    "We have over one hundred duplicates, counting all records that are duplicate. A small proportion; yet, we'll need to deal with these duplicates during the preprocessing stage."
   ]
  },
  {
   "cell_type": "markdown",
   "metadata": {},
   "source": [
    "### Value Counts <a class=\"anchor\" id=\"value_counts\"></a>\n",
    "Here we examine the distribution of discourse types and effectiveness ratings."
   ]
  },
  {
   "cell_type": "markdown",
   "metadata": {},
   "source": [
    "#### Discourse Types"
   ]
  },
  {
   "cell_type": "code",
   "execution_count": 10,
   "metadata": {},
   "outputs": [
    {
     "data": {
      "text/html": [
       "<div>\n",
       "<style scoped>\n",
       "    .dataframe tbody tr th:only-of-type {\n",
       "        vertical-align: middle;\n",
       "    }\n",
       "\n",
       "    .dataframe tbody tr th {\n",
       "        vertical-align: top;\n",
       "    }\n",
       "\n",
       "    .dataframe thead th {\n",
       "        text-align: right;\n",
       "    }\n",
       "</style>\n",
       "<table border=\"1\" class=\"dataframe\">\n",
       "  <thead>\n",
       "    <tr style=\"text-align: right;\">\n",
       "      <th></th>\n",
       "      <th>discourse_type_count</th>\n",
       "      <th>discourse_type_ratio</th>\n",
       "    </tr>\n",
       "  </thead>\n",
       "  <tbody>\n",
       "    <tr>\n",
       "      <th>Evidence</th>\n",
       "      <td>12105</td>\n",
       "      <td>0.33</td>\n",
       "    </tr>\n",
       "    <tr>\n",
       "      <th>Claim</th>\n",
       "      <td>11977</td>\n",
       "      <td>0.33</td>\n",
       "    </tr>\n",
       "    <tr>\n",
       "      <th>Position</th>\n",
       "      <td>4024</td>\n",
       "      <td>0.11</td>\n",
       "    </tr>\n",
       "    <tr>\n",
       "      <th>Concluding Statement</th>\n",
       "      <td>3351</td>\n",
       "      <td>0.09</td>\n",
       "    </tr>\n",
       "    <tr>\n",
       "      <th>Lead</th>\n",
       "      <td>2291</td>\n",
       "      <td>0.06</td>\n",
       "    </tr>\n",
       "    <tr>\n",
       "      <th>Counterclaim</th>\n",
       "      <td>1773</td>\n",
       "      <td>0.05</td>\n",
       "    </tr>\n",
       "    <tr>\n",
       "      <th>Rebuttal</th>\n",
       "      <td>1244</td>\n",
       "      <td>0.03</td>\n",
       "    </tr>\n",
       "  </tbody>\n",
       "</table>\n",
       "</div>"
      ],
      "text/plain": [
       "                      discourse_type_count  discourse_type_ratio\n",
       "Evidence                             12105                  0.33\n",
       "Claim                                11977                  0.33\n",
       "Position                              4024                  0.11\n",
       "Concluding Statement                  3351                  0.09\n",
       "Lead                                  2291                  0.06\n",
       "Counterclaim                          1773                  0.05\n",
       "Rebuttal                              1244                  0.03"
      ]
     },
     "execution_count": 10,
     "metadata": {},
     "output_type": "execute_result"
    },
    {
     "data": {
      "image/png": "[encoded data removed]",
      "text/plain": [
       "<Figure size 864x288 with 1 Axes>"
      ]
     },
     "metadata": {},
     "output_type": "display_data"
    }
   ],
   "source": [
    "fig = sns.displot(fpe['discourse_type'], height=FIG_HEIGHT, aspect=FIG_ASPECT)\n",
    "profiler.value_counts(col='discourse_type')\n"
   ]
  },
  {
   "cell_type": "markdown",
   "metadata": {},
   "source": [
    "About 2/3rd of the essays contain claim and evidence discourse types. The fact that 89% of the argument papers fail to state a position (according to annotators) raises quality of education issues, but that's a topic for another paper."
   ]
  },
  {
   "cell_type": "markdown",
   "metadata": {},
   "source": [
    "#### Effectiveness Ratings "
   ]
  },
  {
   "cell_type": "code",
   "execution_count": 11,
   "metadata": {},
   "outputs": [
    {
     "data": {
      "text/html": [
       "<div>\n",
       "<style scoped>\n",
       "    .dataframe tbody tr th:only-of-type {\n",
       "        vertical-align: middle;\n",
       "    }\n",
       "\n",
       "    .dataframe tbody tr th {\n",
       "        vertical-align: top;\n",
       "    }\n",
       "\n",
       "    .dataframe thead th {\n",
       "        text-align: right;\n",
       "    }\n",
       "</style>\n",
       "<table border=\"1\" class=\"dataframe\">\n",
       "  <thead>\n",
       "    <tr style=\"text-align: right;\">\n",
       "      <th></th>\n",
       "      <th>discourse_effectiveness_count</th>\n",
       "      <th>discourse_effectiveness_ratio</th>\n",
       "    </tr>\n",
       "  </thead>\n",
       "  <tbody>\n",
       "    <tr>\n",
       "      <th>Adequate</th>\n",
       "      <td>20977</td>\n",
       "      <td>0.57</td>\n",
       "    </tr>\n",
       "    <tr>\n",
       "      <th>Effective</th>\n",
       "      <td>9326</td>\n",
       "      <td>0.25</td>\n",
       "    </tr>\n",
       "    <tr>\n",
       "      <th>Ineffective</th>\n",
       "      <td>6462</td>\n",
       "      <td>0.18</td>\n",
       "    </tr>\n",
       "  </tbody>\n",
       "</table>\n",
       "</div>"
      ],
      "text/plain": [
       "             discourse_effectiveness_count  discourse_effectiveness_ratio\n",
       "Adequate                             20977                           0.57\n",
       "Effective                             9326                           0.25\n",
       "Ineffective                           6462                           0.18"
      ]
     },
     "execution_count": 11,
     "metadata": {},
     "output_type": "execute_result"
    },
    {
     "data": {
      "image/png": "[encoded data removed]",
      "text/plain": [
       "<Figure size 864x288 with 1 Axes>"
      ]
     },
     "metadata": {},
     "output_type": "display_data"
    }
   ],
   "source": [
    "fig = sns.displot(fpe['discourse_effectiveness'], height=FIG_HEIGHT, aspect=FIG_ASPECT)\n",
    "profiler.value_counts(col='discourse_effectiveness')"
   ]
  },
  {
   "cell_type": "markdown",
   "metadata": {},
   "source": [
    "Well, in Lake Wobegon, all the children are above average."
   ]
  },
  {
   "cell_type": "markdown",
   "metadata": {},
   "source": [
    "### Null Values <a class=\"anchor\" id=\"nulls\"></a>"
   ]
  },
  {
   "cell_type": "code",
   "execution_count": 12,
   "metadata": {},
   "outputs": [
    {
     "data": {
      "text/plain": [
       "discourse_id               0\n",
       "essay_id                   0\n",
       "discourse_text             0\n",
       "discourse_type             0\n",
       "discourse_effectiveness    0\n",
       "dtype: int64"
      ]
     },
     "execution_count": 12,
     "metadata": {},
     "output_type": "execute_result"
    }
   ],
   "source": [
    "fpe.isnull().sum()"
   ]
  },
  {
   "cell_type": "markdown",
   "metadata": {},
   "source": [
    "### Memory Size <a class=\"anchor\" id=\"memory\"></a>"
   ]
  },
  {
   "cell_type": "code",
   "execution_count": 13,
   "metadata": {},
   "outputs": [
    {
     "data": {
      "text/html": [
       "<style type=\"text/css\">\n",
       "</style>\n",
       "<table id=\"T_1481d\">\n",
       "  <thead>\n",
       "    <tr>\n",
       "      <th class=\"blank level0\" >&nbsp;</th>\n",
       "      <th id=\"T_1481d_level0_col0\" class=\"col_heading level0 col0\" >Column</th>\n",
       "      <th id=\"T_1481d_level0_col1\" class=\"col_heading level0 col1\" >Memory (Bytes)</th>\n",
       "    </tr>\n",
       "  </thead>\n",
       "  <tbody>\n",
       "    <tr>\n",
       "      <th id=\"T_1481d_level0_row0\" class=\"row_heading level0 row0\" >0</th>\n",
       "      <td id=\"T_1481d_row0_col0\" class=\"data row0 col0\" >discourse_id</td>\n",
       "      <td id=\"T_1481d_row0_col1\" class=\"data row0 col1\" >2,536,785</td>\n",
       "    </tr>\n",
       "    <tr>\n",
       "      <th id=\"T_1481d_level0_row1\" class=\"row_heading level0 row1\" >1</th>\n",
       "      <td id=\"T_1481d_row1_col0\" class=\"data row1 col0\" >essay_id</td>\n",
       "      <td id=\"T_1481d_row1_col1\" class=\"data row1 col1\" >2,536,785</td>\n",
       "    </tr>\n",
       "    <tr>\n",
       "      <th id=\"T_1481d_level0_row2\" class=\"row_heading level0 row2\" >2</th>\n",
       "      <td id=\"T_1481d_row2_col0\" class=\"data row2 col0\" >discourse_text</td>\n",
       "      <td id=\"T_1481d_row2_col1\" class=\"data row2 col1\" >12,537,564</td>\n",
       "    </tr>\n",
       "    <tr>\n",
       "      <th id=\"T_1481d_level0_row3\" class=\"row_heading level0 row3\" >3</th>\n",
       "      <td id=\"T_1481d_row3_col0\" class=\"data row3 col0\" >discourse_type</td>\n",
       "      <td id=\"T_1481d_row3_col1\" class=\"data row3 col1\" >2,391,934</td>\n",
       "    </tr>\n",
       "    <tr>\n",
       "      <th id=\"T_1481d_level0_row4\" class=\"row_heading level0 row4\" >4</th>\n",
       "      <td id=\"T_1481d_row4_col0\" class=\"data row4 col0\" >discourse_effectiveness</td>\n",
       "      <td id=\"T_1481d_row4_col1\" class=\"data row4 col1\" >2,418,437</td>\n",
       "    </tr>\n",
       "    <tr>\n",
       "      <th id=\"T_1481d_level0_row5\" class=\"row_heading level0 row5\" >6</th>\n",
       "      <td id=\"T_1481d_row5_col0\" class=\"data row5 col0\" >Total</td>\n",
       "      <td id=\"T_1481d_row5_col1\" class=\"data row5 col1\" >22,421,505</td>\n",
       "    </tr>\n",
       "  </tbody>\n",
       "</table>\n"
      ],
      "text/plain": [
       "<pandas.io.formats.style.Styler at 0x7f9738d39d30>"
      ]
     },
     "execution_count": 13,
     "metadata": {},
     "output_type": "execute_result"
    }
   ],
   "source": [
    "profiler.memory"
   ]
  },
  {
   "cell_type": "markdown",
   "metadata": {},
   "source": [
    "### Alphabetic Characters <a class=\"anchor\" id=\"alpha\"></a>"
   ]
  },
  {
   "cell_type": "code",
   "execution_count": 14,
   "metadata": {},
   "outputs": [
    {
     "name": "stdout",
     "output_type": "stream",
     "text": [
      "The dataset contains 7,319,371 alphabetic characters\n"
     ]
    },
    {
     "data": {
      "text/html": [
       "<h3>The descriptive statistics of alphabetic characters per discourse</h3>"
      ],
      "text/plain": [
       "<IPython.core.display.HTML object>"
      ]
     },
     "metadata": {},
     "output_type": "display_data"
    },
    {
     "data": {
      "text/html": [
       "<div>\n",
       "<style scoped>\n",
       "    .dataframe tbody tr th:only-of-type {\n",
       "        vertical-align: middle;\n",
       "    }\n",
       "\n",
       "    .dataframe tbody tr th {\n",
       "        vertical-align: top;\n",
       "    }\n",
       "\n",
       "    .dataframe thead th {\n",
       "        text-align: right;\n",
       "    }\n",
       "</style>\n",
       "<table border=\"1\" class=\"dataframe\">\n",
       "  <thead>\n",
       "    <tr style=\"text-align: right;\">\n",
       "      <th></th>\n",
       "      <th>count</th>\n",
       "      <th>mean</th>\n",
       "      <th>std</th>\n",
       "      <th>min</th>\n",
       "      <th>25%</th>\n",
       "      <th>50%</th>\n",
       "      <th>75%</th>\n",
       "      <th>max</th>\n",
       "    </tr>\n",
       "  </thead>\n",
       "  <tbody>\n",
       "    <tr>\n",
       "      <th>alpha</th>\n",
       "      <td>36,765.00</td>\n",
       "      <td>199.09</td>\n",
       "      <td>209.69</td>\n",
       "      <td>3.00</td>\n",
       "      <td>70.00</td>\n",
       "      <td>124.00</td>\n",
       "      <td>251.00</td>\n",
       "      <td>3,217.00</td>\n",
       "    </tr>\n",
       "  </tbody>\n",
       "</table>\n",
       "</div>"
      ],
      "text/plain": [
       "          count   mean    std  min   25%    50%    75%      max\n",
       "alpha 36,765.00 199.09 209.69 3.00 70.00 124.00 251.00 3,217.00"
      ]
     },
     "execution_count": 14,
     "metadata": {},
     "output_type": "execute_result"
    }
   ],
   "source": [
    "fe = FeatureExtractor(data=fpe)\n",
    "fe.feature = 'alpha'\n",
    "\n",
    "print(\"The dataset contains {} alphabetic characters\".format(pint(fe.total)))\n",
    "display(HTML(\"<h3>The descriptive statistics of alphabetic characters per discourse</h3>\"))\n",
    "fe.statistics"
   ]
  },
  {
   "cell_type": "markdown",
   "metadata": {},
   "source": [
    "The median is actually 124 characters per discourse as the mean has been influenced by the overachiever with over 3000 characters."
   ]
  },
  {
   "cell_type": "code",
   "execution_count": 15,
   "metadata": {},
   "outputs": [
    {
     "data": {
      "image/png": "[encoded data removed]",
      "text/plain": [
       "<Figure size 720x360 with 1 Axes>"
      ]
     },
     "metadata": {},
     "output_type": "display_data"
    }
   ],
   "source": [
    "fig = plt.figure(figsize=FIG_SIZE, tight_layout=True)\n",
    "title = \"Distribution of Alphabetic Characters Across Discourse Texts\"\n",
    "xlab = \"Num Alphabetic Characters per Discourse\"\n",
    "ylab = \"Counts\"\n",
    "fig = fe.plot(fig=fig,title=title, xlab=xlab,ylab=ylab)"
   ]
  },
  {
   "cell_type": "code",
   "execution_count": 16,
   "metadata": {},
   "outputs": [
    {
     "data": {
      "text/html": [
       "<h3>Random Selection with Number of Alphabetic Characters</h3>"
      ],
      "text/plain": [
       "<IPython.core.display.HTML object>"
      ]
     },
     "metadata": {},
     "output_type": "display_data"
    },
    {
     "data": {
      "text/html": [
       "<div>\n",
       "<style scoped>\n",
       "    .dataframe tbody tr th:only-of-type {\n",
       "        vertical-align: middle;\n",
       "    }\n",
       "\n",
       "    .dataframe tbody tr th {\n",
       "        vertical-align: top;\n",
       "    }\n",
       "\n",
       "    .dataframe thead th {\n",
       "        text-align: right;\n",
       "    }\n",
       "</style>\n",
       "<table border=\"1\" class=\"dataframe\">\n",
       "  <thead>\n",
       "    <tr style=\"text-align: right;\">\n",
       "      <th></th>\n",
       "      <th>14486</th>\n",
       "    </tr>\n",
       "  </thead>\n",
       "  <tbody>\n",
       "    <tr>\n",
       "      <th>discourse_id</th>\n",
       "      <td>09e4be395f19</td>\n",
       "    </tr>\n",
       "    <tr>\n",
       "      <th>essay_id</th>\n",
       "      <td>0202B3446E2E</td>\n",
       "    </tr>\n",
       "    <tr>\n",
       "      <th>discourse_text</th>\n",
       "      <td>it is obsurd that in Wyoming, a state of 500,000 voters, only get 55 represenntitives. It is with great agrivation that i ask you to make this change.</td>\n",
       "    </tr>\n",
       "    <tr>\n",
       "      <th>discourse_type</th>\n",
       "      <td>Evidence</td>\n",
       "    </tr>\n",
       "    <tr>\n",
       "      <th>discourse_effectiveness</th>\n",
       "      <td>Ineffective</td>\n",
       "    </tr>\n",
       "    <tr>\n",
       "      <th>alpha</th>\n",
       "      <td>110</td>\n",
       "    </tr>\n",
       "  </tbody>\n",
       "</table>\n",
       "</div>"
      ],
      "text/plain": [
       "                                                                                                                                                                           14486\n",
       "discourse_id                                                                                                                                                        09e4be395f19\n",
       "essay_id                                                                                                                                                            0202B3446E2E\n",
       "discourse_text           it is obsurd that in Wyoming, a state of 500,000 voters, only get 55 represenntitives. It is with great agrivation that i ask you to make this change. \n",
       "discourse_type                                                                                                                                                          Evidence\n",
       "discourse_effectiveness                                                                                                                                              Ineffective\n",
       "alpha                                                                                                                                                                        110"
      ]
     },
     "execution_count": 16,
     "metadata": {},
     "output_type": "execute_result"
    }
   ],
   "source": [
    "display(HTML(\"<h3>Random Selection with Number of Alphabetic Characters</h3>\"))\n",
    "fe.random_discourse\n"
   ]
  },
  {
   "cell_type": "markdown",
   "metadata": {},
   "source": [
    "### Numeric Characters <a class=\"anchor\" id=\"numerics\"></a>"
   ]
  },
  {
   "cell_type": "code",
   "execution_count": 17,
   "metadata": {},
   "outputs": [
    {
     "name": "stdout",
     "output_type": "stream",
     "text": [
      "There are 5,038 numerics in the corpus.\n"
     ]
    },
    {
     "data": {
      "text/html": [
       "<h3>The descriptive statistics of numeric characters per discourse</h3>"
      ],
      "text/plain": [
       "<IPython.core.display.HTML object>"
      ]
     },
     "metadata": {},
     "output_type": "display_data"
    },
    {
     "data": {
      "text/html": [
       "<div>\n",
       "<style scoped>\n",
       "    .dataframe tbody tr th:only-of-type {\n",
       "        vertical-align: middle;\n",
       "    }\n",
       "\n",
       "    .dataframe tbody tr th {\n",
       "        vertical-align: top;\n",
       "    }\n",
       "\n",
       "    .dataframe thead th {\n",
       "        text-align: right;\n",
       "    }\n",
       "</style>\n",
       "<table border=\"1\" class=\"dataframe\">\n",
       "  <thead>\n",
       "    <tr style=\"text-align: right;\">\n",
       "      <th></th>\n",
       "      <th>count</th>\n",
       "      <th>mean</th>\n",
       "      <th>std</th>\n",
       "      <th>min</th>\n",
       "      <th>25%</th>\n",
       "      <th>50%</th>\n",
       "      <th>75%</th>\n",
       "      <th>max</th>\n",
       "    </tr>\n",
       "  </thead>\n",
       "  <tbody>\n",
       "    <tr>\n",
       "      <th>numeric</th>\n",
       "      <td>36,765.00</td>\n",
       "      <td>0.14</td>\n",
       "      <td>0.57</td>\n",
       "      <td>0.00</td>\n",
       "      <td>0.00</td>\n",
       "      <td>0.00</td>\n",
       "      <td>0.00</td>\n",
       "      <td>13.00</td>\n",
       "    </tr>\n",
       "  </tbody>\n",
       "</table>\n",
       "</div>"
      ],
      "text/plain": [
       "            count  mean  std  min  25%  50%  75%   max\n",
       "numeric 36,765.00  0.14 0.57 0.00 0.00 0.00 0.00 13.00"
      ]
     },
     "execution_count": 17,
     "metadata": {},
     "output_type": "execute_result"
    }
   ],
   "source": [
    "fe.feature = 'numerics'\n",
    "print(\"There are {} numerics in the corpus.\".format(pint(fe.total)))\n",
    "display(HTML(\"<h3>The descriptive statistics of numeric characters per discourse</h3>\"))\n",
    "fe.statistics"
   ]
  },
  {
   "cell_type": "code",
   "execution_count": 18,
   "metadata": {},
   "outputs": [
    {
     "data": {
      "image/png": "[encoded data removed]",
      "text/plain": [
       "<Figure size 720x360 with 1 Axes>"
      ]
     },
     "metadata": {},
     "output_type": "display_data"
    }
   ],
   "source": [
    "fig = plt.figure(figsize=FIG_SIZE, tight_layout=True)\n",
    "title = \"Distribution of Numerics Across Discourse Texts\"\n",
    "xlab = \"Frequency of Numerics per Discourse\"\n",
    "ylab = \"Counts\"\n",
    "fig = fe.plot(fig=fig,title=title, xlab=xlab,ylab=ylab)"
   ]
  },
  {
   "cell_type": "code",
   "execution_count": 19,
   "metadata": {},
   "outputs": [
    {
     "data": {
      "text/html": [
       "<h3>Random Selection with Number of Digits</h3>"
      ],
      "text/plain": [
       "<IPython.core.display.HTML object>"
      ]
     },
     "metadata": {},
     "output_type": "display_data"
    },
    {
     "data": {
      "text/html": [
       "<div>\n",
       "<style scoped>\n",
       "    .dataframe tbody tr th:only-of-type {\n",
       "        vertical-align: middle;\n",
       "    }\n",
       "\n",
       "    .dataframe tbody tr th {\n",
       "        vertical-align: top;\n",
       "    }\n",
       "\n",
       "    .dataframe thead th {\n",
       "        text-align: right;\n",
       "    }\n",
       "</style>\n",
       "<table border=\"1\" class=\"dataframe\">\n",
       "  <thead>\n",
       "    <tr style=\"text-align: right;\">\n",
       "      <th></th>\n",
       "      <th>8857</th>\n",
       "    </tr>\n",
       "  </thead>\n",
       "  <tbody>\n",
       "    <tr>\n",
       "      <th>discourse_id</th>\n",
       "      <td>97f2f76f94a3</td>\n",
       "    </tr>\n",
       "    <tr>\n",
       "      <th>essay_id</th>\n",
       "      <td>9FAA72C47BB0</td>\n",
       "    </tr>\n",
       "    <tr>\n",
       "      <th>discourse_text</th>\n",
       "      <td>In Paragraph 3 the text states that process begins with 3-D computer model of the face, all 44 major muscles in the model must move like a human.</td>\n",
       "    </tr>\n",
       "    <tr>\n",
       "      <th>discourse_type</th>\n",
       "      <td>Evidence</td>\n",
       "    </tr>\n",
       "    <tr>\n",
       "      <th>discourse_effectiveness</th>\n",
       "      <td>Adequate</td>\n",
       "    </tr>\n",
       "    <tr>\n",
       "      <th>numeric</th>\n",
       "      <td>2</td>\n",
       "    </tr>\n",
       "  </tbody>\n",
       "</table>\n",
       "</div>"
      ],
      "text/plain": [
       "                                                                                                                                                                       8857\n",
       "discourse_id                                                                                                                                                   97f2f76f94a3\n",
       "essay_id                                                                                                                                                       9FAA72C47BB0\n",
       "discourse_text           In Paragraph 3 the text states that process begins with 3-D computer model of the face, all 44 major muscles in the model must move like a human. \n",
       "discourse_type                                                                                                                                                     Evidence\n",
       "discourse_effectiveness                                                                                                                                            Adequate\n",
       "numeric                                                                                                                                                                   2"
      ]
     },
     "execution_count": 19,
     "metadata": {},
     "output_type": "execute_result"
    }
   ],
   "source": [
    "display(HTML(\"<h3>Random Selection with Number of Digits</h3>\"))\n",
    "fe.random_discourse\n"
   ]
  },
  {
   "cell_type": "markdown",
   "metadata": {},
   "source": [
    "### Special Characters (Non-Punctuation) <a class=\"anchor\" id=\"special\"></a>\n",
    "Here we examine the special characters that are not one of the 14 punctuation characters."
   ]
  },
  {
   "cell_type": "code",
   "execution_count": 20,
   "metadata": {},
   "outputs": [
    {
     "name": "stdout",
     "output_type": "stream",
     "text": [
      "The dataset contains 1,977 special characters\n"
     ]
    },
    {
     "data": {
      "text/html": [
       "<h3>The descriptive statistics of special characters per discourse</h3>"
      ],
      "text/plain": [
       "<IPython.core.display.HTML object>"
      ]
     },
     "metadata": {},
     "output_type": "display_data"
    },
    {
     "data": {
      "text/html": [
       "<div>\n",
       "<style scoped>\n",
       "    .dataframe tbody tr th:only-of-type {\n",
       "        vertical-align: middle;\n",
       "    }\n",
       "\n",
       "    .dataframe tbody tr th {\n",
       "        vertical-align: top;\n",
       "    }\n",
       "\n",
       "    .dataframe thead th {\n",
       "        text-align: right;\n",
       "    }\n",
       "</style>\n",
       "<table border=\"1\" class=\"dataframe\">\n",
       "  <thead>\n",
       "    <tr style=\"text-align: right;\">\n",
       "      <th></th>\n",
       "      <th>count</th>\n",
       "      <th>mean</th>\n",
       "      <th>std</th>\n",
       "      <th>min</th>\n",
       "      <th>25%</th>\n",
       "      <th>50%</th>\n",
       "      <th>75%</th>\n",
       "      <th>max</th>\n",
       "    </tr>\n",
       "  </thead>\n",
       "  <tbody>\n",
       "    <tr>\n",
       "      <th>special_characters</th>\n",
       "      <td>36,765.00</td>\n",
       "      <td>0.05</td>\n",
       "      <td>0.43</td>\n",
       "      <td>0.00</td>\n",
       "      <td>0.00</td>\n",
       "      <td>0.00</td>\n",
       "      <td>0.00</td>\n",
       "      <td>33.00</td>\n",
       "    </tr>\n",
       "  </tbody>\n",
       "</table>\n",
       "</div>"
      ],
      "text/plain": [
       "                       count  mean  std  min  25%  50%  75%   max\n",
       "special_characters 36,765.00  0.05 0.43 0.00 0.00 0.00 0.00 33.00"
      ]
     },
     "execution_count": 20,
     "metadata": {},
     "output_type": "execute_result"
    }
   ],
   "source": [
    "fe.feature = 'special_characters'\n",
    "print(\"The dataset contains {} special characters\".format(pint(fe.total)))\n",
    "display(HTML(\"<h3>The descriptive statistics of special characters per discourse</h3>\"))\n",
    "fe.statistics"
   ]
  },
  {
   "cell_type": "code",
   "execution_count": 21,
   "metadata": {},
   "outputs": [
    {
     "data": {
      "image/png": "[encoded data removed]",
      "text/plain": [
       "<Figure size 720x360 with 1 Axes>"
      ]
     },
     "metadata": {},
     "output_type": "display_data"
    }
   ],
   "source": [
    "fig = plt.figure(figsize=FIG_SIZE, tight_layout=True)\n",
    "title = \"Distribution of Special Characters Across Discourse Texts\"\n",
    "xlab = \"Num Special Characters per Discourse\"\n",
    "ylab = \"Counts\"\n",
    "fig = fe.plot(fig=fig,title=title, xlab=xlab,ylab=ylab)"
   ]
  },
  {
   "cell_type": "code",
   "execution_count": 22,
   "metadata": {},
   "outputs": [
    {
     "name": "stdout",
     "output_type": "stream",
     "text": [
      "The five most frequent special characters\n"
     ]
    },
    {
     "data": {
      "text/html": [
       "<div>\n",
       "<style scoped>\n",
       "    .dataframe tbody tr th:only-of-type {\n",
       "        vertical-align: middle;\n",
       "    }\n",
       "\n",
       "    .dataframe tbody tr th {\n",
       "        vertical-align: top;\n",
       "    }\n",
       "\n",
       "    .dataframe thead th {\n",
       "        text-align: right;\n",
       "    }\n",
       "</style>\n",
       "<table border=\"1\" class=\"dataframe\">\n",
       "  <thead>\n",
       "    <tr style=\"text-align: right;\">\n",
       "      <th></th>\n",
       "      <th>Count</th>\n",
       "    </tr>\n",
       "  </thead>\n",
       "  <tbody>\n",
       "    <tr>\n",
       "      <th>underscore</th>\n",
       "      <td>739</td>\n",
       "    </tr>\n",
       "    <tr>\n",
       "      <th>forward_slash</th>\n",
       "      <td>477</td>\n",
       "    </tr>\n",
       "    <tr>\n",
       "      <th>percent</th>\n",
       "      <td>423</td>\n",
       "    </tr>\n",
       "    <tr>\n",
       "      <th>dollar</th>\n",
       "      <td>124</td>\n",
       "    </tr>\n",
       "    <tr>\n",
       "      <th>ampersand</th>\n",
       "      <td>75</td>\n",
       "    </tr>\n",
       "  </tbody>\n",
       "</table>\n",
       "</div>"
      ],
      "text/plain": [
       "               Count\n",
       "underscore       739\n",
       "forward_slash    477\n",
       "percent          423\n",
       "dollar           124\n",
       "ampersand         75"
      ]
     },
     "execution_count": 22,
     "metadata": {},
     "output_type": "execute_result"
    }
   ],
   "source": [
    "\n",
    "extractor = fe.get_extractor()\n",
    "print(\"The five most frequent special characters\")\n",
    "extractor.counts[0:5]"
   ]
  },
  {
   "cell_type": "code",
   "execution_count": 23,
   "metadata": {},
   "outputs": [
    {
     "data": {
      "text/html": [
       "<h3>Random Selection with Number of Special Characters</h3>"
      ],
      "text/plain": [
       "<IPython.core.display.HTML object>"
      ]
     },
     "metadata": {},
     "output_type": "display_data"
    },
    {
     "data": {
      "text/html": [
       "<div>\n",
       "<style scoped>\n",
       "    .dataframe tbody tr th:only-of-type {\n",
       "        vertical-align: middle;\n",
       "    }\n",
       "\n",
       "    .dataframe tbody tr th {\n",
       "        vertical-align: top;\n",
       "    }\n",
       "\n",
       "    .dataframe thead th {\n",
       "        text-align: right;\n",
       "    }\n",
       "</style>\n",
       "<table border=\"1\" class=\"dataframe\">\n",
       "  <thead>\n",
       "    <tr style=\"text-align: right;\">\n",
       "      <th></th>\n",
       "      <th>13816</th>\n",
       "    </tr>\n",
       "  </thead>\n",
       "  <tbody>\n",
       "    <tr>\n",
       "      <th>discourse_id</th>\n",
       "      <td>79d4ab8ddda8</td>\n",
       "    </tr>\n",
       "    <tr>\n",
       "      <th>essay_id</th>\n",
       "      <td>F7561C027920</td>\n",
       "    </tr>\n",
       "    <tr>\n",
       "      <th>discourse_text</th>\n",
       "      <td>More than likely, they would research more about certain skills or information in order to make their projects even better and stand out from their peers. Subjects such as science and english are definitely able to make this happen because the skills and techniques that are learned can always be worked on, and they are easier for students to share what they know about certain topics. For example, AP chemistry has everyone doing the same assignment before the school year starts. Students in AP Chemistry, instead, could create their own experiments with the skills and knowledge acquired from Research Chemistry. The students would not only keep the techniques/skills practiced and knowledge from the year before, but also have the opportunity to explore different skills or use the skills obtained at a more advanced level. Even though students wouldn't lose the skills and knowledge learned from previous classes, they would also learn and build on some others skills such as life skills.</td>\n",
       "    </tr>\n",
       "    <tr>\n",
       "      <th>discourse_type</th>\n",
       "      <td>Evidence</td>\n",
       "    </tr>\n",
       "    <tr>\n",
       "      <th>discourse_effectiveness</th>\n",
       "      <td>Effective</td>\n",
       "    </tr>\n",
       "    <tr>\n",
       "      <th>special_characters</th>\n",
       "      <td>1</td>\n",
       "    </tr>\n",
       "  </tbody>\n",
       "</table>\n",
       "</div>"
      ],
      "text/plain": [
       "                                                                                                                                                                                                                                                                                                                                                                                                                                                                                                                                                                                                                                                                                                                                                                                                                                                                                                                                                                                                                                                       13816\n",
       "discourse_id                                                                                                                                                                                                                                                                                                                                                                                                                                                                                                                                                                                                                                                                                                                                                                                                                                                                                                                                                                                                                                    79d4ab8ddda8\n",
       "essay_id                                                                                                                                                                                                                                                                                                                                                                                                                                                                                                                                                                                                                                                                                                                                                                                                                                                                                                                                                                                                                                        F7561C027920\n",
       "discourse_text           More than likely, they would research more about certain skills or information in order to make their projects even better and stand out from their peers. Subjects such as science and english are definitely able to make this happen because the skills and techniques that are learned can always be worked on, and they are easier for students to share what they know about certain topics. For example, AP chemistry has everyone doing the same assignment before the school year starts. Students in AP Chemistry, instead, could create their own experiments with the skills and knowledge acquired from Research Chemistry. The students would not only keep the techniques/skills practiced and knowledge from the year before, but also have the opportunity to explore different skills or use the skills obtained at a more advanced level. Even though students wouldn't lose the skills and knowledge learned from previous classes, they would also learn and build on some others skills such as life skills. \n",
       "discourse_type                                                                                                                                                                                                                                                                                                                                                                                                                                                                                                                                                                                                                                                                                                                                                                                                                                                                                                                                                                                                                                      Evidence\n",
       "discourse_effectiveness                                                                                                                                                                                                                                                                                                                                                                                                                                                                                                                                                                                                                                                                                                                                                                                                                                                                                                                                                                                                                            Effective\n",
       "special_characters                                                                                                                                                                                                                                                                                                                                                                                                                                                                                                                                                                                                                                                                                                                                                                                                                                                                                                                                                                                                                                         1"
      ]
     },
     "execution_count": 23,
     "metadata": {},
     "output_type": "execute_result"
    }
   ],
   "source": [
    "display(HTML(\"<h3>Random Selection with Number of Special Characters</h3>\"))\n",
    "fe.random_discourse"
   ]
  },
  {
   "cell_type": "markdown",
   "metadata": {},
   "source": [
    "### Control Characters <a class=\"anchor\" id=\"control\"></a>\n",
    "Here we examine the special characters that are not one of the 14 punctuation characters."
   ]
  },
  {
   "cell_type": "code",
   "execution_count": 24,
   "metadata": {},
   "outputs": [
    {
     "name": "stdout",
     "output_type": "stream",
     "text": [
      "The dataset contains 8,985 control characters\n"
     ]
    },
    {
     "data": {
      "text/html": [
       "<h3>The descriptive statistics of control characters per discourse</h3>"
      ],
      "text/plain": [
       "<IPython.core.display.HTML object>"
      ]
     },
     "metadata": {},
     "output_type": "display_data"
    },
    {
     "data": {
      "text/html": [
       "<div>\n",
       "<style scoped>\n",
       "    .dataframe tbody tr th:only-of-type {\n",
       "        vertical-align: middle;\n",
       "    }\n",
       "\n",
       "    .dataframe tbody tr th {\n",
       "        vertical-align: top;\n",
       "    }\n",
       "\n",
       "    .dataframe thead th {\n",
       "        text-align: right;\n",
       "    }\n",
       "</style>\n",
       "<table border=\"1\" class=\"dataframe\">\n",
       "  <thead>\n",
       "    <tr style=\"text-align: right;\">\n",
       "      <th></th>\n",
       "      <th>count</th>\n",
       "      <th>mean</th>\n",
       "      <th>std</th>\n",
       "      <th>min</th>\n",
       "      <th>25%</th>\n",
       "      <th>50%</th>\n",
       "      <th>75%</th>\n",
       "      <th>max</th>\n",
       "    </tr>\n",
       "  </thead>\n",
       "  <tbody>\n",
       "    <tr>\n",
       "      <th>control</th>\n",
       "      <td>36,765.00</td>\n",
       "      <td>0.24</td>\n",
       "      <td>1.19</td>\n",
       "      <td>0.00</td>\n",
       "      <td>0.00</td>\n",
       "      <td>0.00</td>\n",
       "      <td>0.00</td>\n",
       "      <td>44.00</td>\n",
       "    </tr>\n",
       "  </tbody>\n",
       "</table>\n",
       "</div>"
      ],
      "text/plain": [
       "            count  mean  std  min  25%  50%  75%   max\n",
       "control 36,765.00  0.24 1.19 0.00 0.00 0.00 0.00 44.00"
      ]
     },
     "execution_count": 24,
     "metadata": {},
     "output_type": "execute_result"
    }
   ],
   "source": [
    "fe.feature = 'control_characters'\n",
    "print(\"The dataset contains {} control characters\".format(pint(fe.total)))\n",
    "display(HTML(\"<h3>The descriptive statistics of control characters per discourse</h3>\"))\n",
    "fe.statistics"
   ]
  },
  {
   "cell_type": "code",
   "execution_count": 25,
   "metadata": {},
   "outputs": [
    {
     "data": {
      "image/png": "[encoded data removed]",
      "text/plain": [
       "<Figure size 720x360 with 1 Axes>"
      ]
     },
     "metadata": {},
     "output_type": "display_data"
    }
   ],
   "source": [
    "fig = plt.figure(figsize=FIG_SIZE, tight_layout=True)\n",
    "title = \"Distribution of Control Characters Across Discourse Texts\"\n",
    "xlab = \"Num Control Characters per Discourse\"\n",
    "ylab = \"Counts\"\n",
    "fig = fe.plot(fig=fig,title=title, xlab=xlab,ylab=ylab)"
   ]
  },
  {
   "cell_type": "code",
   "execution_count": 26,
   "metadata": {},
   "outputs": [
    {
     "data": {
      "text/html": [
       "<h3>Random Selection with Number of Control Characters</h3>"
      ],
      "text/plain": [
       "<IPython.core.display.HTML object>"
      ]
     },
     "metadata": {},
     "output_type": "display_data"
    },
    {
     "data": {
      "text/html": [
       "<div>\n",
       "<style scoped>\n",
       "    .dataframe tbody tr th:only-of-type {\n",
       "        vertical-align: middle;\n",
       "    }\n",
       "\n",
       "    .dataframe tbody tr th {\n",
       "        vertical-align: top;\n",
       "    }\n",
       "\n",
       "    .dataframe thead th {\n",
       "        text-align: right;\n",
       "    }\n",
       "</style>\n",
       "<table border=\"1\" class=\"dataframe\">\n",
       "  <thead>\n",
       "    <tr style=\"text-align: right;\">\n",
       "      <th></th>\n",
       "      <th>25550</th>\n",
       "    </tr>\n",
       "  </thead>\n",
       "  <tbody>\n",
       "    <tr>\n",
       "      <th>discourse_id</th>\n",
       "      <td>4870eb194cfb</td>\n",
       "    </tr>\n",
       "    <tr>\n",
       "      <th>essay_id</th>\n",
       "      <td>961D937626F7</td>\n",
       "    </tr>\n",
       "    <tr>\n",
       "      <th>discourse_text</th>\n",
       "      <td>The voting system should be done like specificly, because if you setup different things it's not going to work at all. It depends what kind of setups you are making. But I think it's not the good way to make voting system in setups. \\n</td>\n",
       "    </tr>\n",
       "    <tr>\n",
       "      <th>discourse_type</th>\n",
       "      <td>Claim</td>\n",
       "    </tr>\n",
       "    <tr>\n",
       "      <th>discourse_effectiveness</th>\n",
       "      <td>Ineffective</td>\n",
       "    </tr>\n",
       "    <tr>\n",
       "      <th>control</th>\n",
       "      <td>1</td>\n",
       "    </tr>\n",
       "  </tbody>\n",
       "</table>\n",
       "</div>"
      ],
      "text/plain": [
       "                                                                                                                                                                                                                                                               25550\n",
       "discourse_id                                                                                                                                                                                                                                            4870eb194cfb\n",
       "essay_id                                                                                                                                                                                                                                                961D937626F7\n",
       "discourse_text           The voting system should be done like specificly, because if you setup different things it's not going to work at all. It depends what kind of setups you are making. But I think it's not the good way to make voting system in setups. \\n\n",
       "discourse_type                                                                                                                                                                                                                                                 Claim\n",
       "discourse_effectiveness                                                                                                                                                                                                                                  Ineffective\n",
       "control                                                                                                                                                                                                                                                            1"
      ]
     },
     "execution_count": 26,
     "metadata": {},
     "output_type": "execute_result"
    }
   ],
   "source": [
    "display(HTML(\"<h3>Random Selection with Number of Control Characters</h3>\"))\n",
    "fe.random_discourse"
   ]
  },
  {
   "cell_type": "markdown",
   "metadata": {},
   "source": [
    "### Punctuation <a class=\"anchor\" id=\"punctuation\"></a>"
   ]
  },
  {
   "cell_type": "code",
   "execution_count": 27,
   "metadata": {},
   "outputs": [
    {
     "name": "stdout",
     "output_type": "stream",
     "text": [
      "The dataset contains 212,787 punctuation marks\n"
     ]
    },
    {
     "data": {
      "text/html": [
       "<h3>The descriptive statistics of punctuation marks per discourse</h3>"
      ],
      "text/plain": [
       "<IPython.core.display.HTML object>"
      ]
     },
     "metadata": {},
     "output_type": "display_data"
    },
    {
     "data": {
      "text/html": [
       "<div>\n",
       "<style scoped>\n",
       "    .dataframe tbody tr th:only-of-type {\n",
       "        vertical-align: middle;\n",
       "    }\n",
       "\n",
       "    .dataframe tbody tr th {\n",
       "        vertical-align: top;\n",
       "    }\n",
       "\n",
       "    .dataframe thead th {\n",
       "        text-align: right;\n",
       "    }\n",
       "</style>\n",
       "<table border=\"1\" class=\"dataframe\">\n",
       "  <thead>\n",
       "    <tr style=\"text-align: right;\">\n",
       "      <th></th>\n",
       "      <th>count</th>\n",
       "      <th>mean</th>\n",
       "      <th>std</th>\n",
       "      <th>min</th>\n",
       "      <th>25%</th>\n",
       "      <th>50%</th>\n",
       "      <th>75%</th>\n",
       "      <th>max</th>\n",
       "    </tr>\n",
       "  </thead>\n",
       "  <tbody>\n",
       "    <tr>\n",
       "      <th>punctuation</th>\n",
       "      <td>36,765.00</td>\n",
       "      <td>5.79</td>\n",
       "      <td>7.94</td>\n",
       "      <td>0.00</td>\n",
       "      <td>1.00</td>\n",
       "      <td>3.00</td>\n",
       "      <td>8.00</td>\n",
       "      <td>169.00</td>\n",
       "    </tr>\n",
       "  </tbody>\n",
       "</table>\n",
       "</div>"
      ],
      "text/plain": [
       "                count  mean  std  min  25%  50%  75%    max\n",
       "punctuation 36,765.00  5.79 7.94 0.00 1.00 3.00 8.00 169.00"
      ]
     },
     "execution_count": 27,
     "metadata": {},
     "output_type": "execute_result"
    }
   ],
   "source": [
    "fe.feature = 'punctuation'\n",
    "print(\"The dataset contains {} punctuation marks\".format(pint(fe.total)))\n",
    "display(HTML(\"<h3>The descriptive statistics of punctuation marks per discourse</h3>\"))\n",
    "fe.statistics"
   ]
  },
  {
   "cell_type": "code",
   "execution_count": 28,
   "metadata": {},
   "outputs": [
    {
     "data": {
      "image/png": "[encoded data removed]",
      "text/plain": [
       "<Figure size 720x360 with 1 Axes>"
      ]
     },
     "metadata": {},
     "output_type": "display_data"
    }
   ],
   "source": [
    "fig = plt.figure(figsize=FIG_SIZE, tight_layout=True)\n",
    "title = \"Distribution of Punctuation Marks Across Discourse Texts\"\n",
    "xlab = \"Num Punctuation Marks per Discourse\"\n",
    "ylab = \"Counts\"\n",
    "fig = fe.plot(fig=fig,title=title, xlab=xlab,ylab=ylab)"
   ]
  },
  {
   "cell_type": "code",
   "execution_count": 29,
   "metadata": {},
   "outputs": [
    {
     "name": "stdout",
     "output_type": "stream",
     "text": [
      "The five most frequent punctuation marks\n"
     ]
    },
    {
     "data": {
      "text/html": [
       "<div>\n",
       "<style scoped>\n",
       "    .dataframe tbody tr th:only-of-type {\n",
       "        vertical-align: middle;\n",
       "    }\n",
       "\n",
       "    .dataframe tbody tr th {\n",
       "        vertical-align: top;\n",
       "    }\n",
       "\n",
       "    .dataframe thead th {\n",
       "        text-align: right;\n",
       "    }\n",
       "</style>\n",
       "<table border=\"1\" class=\"dataframe\">\n",
       "  <thead>\n",
       "    <tr style=\"text-align: right;\">\n",
       "      <th></th>\n",
       "      <th>Count</th>\n",
       "    </tr>\n",
       "  </thead>\n",
       "  <tbody>\n",
       "    <tr>\n",
       "      <th>period</th>\n",
       "      <td>74207</td>\n",
       "    </tr>\n",
       "    <tr>\n",
       "      <th>comma</th>\n",
       "      <td>51960</td>\n",
       "    </tr>\n",
       "    <tr>\n",
       "      <th>elipses</th>\n",
       "      <td>46485</td>\n",
       "    </tr>\n",
       "    <tr>\n",
       "      <th>apostrophe</th>\n",
       "      <td>16908</td>\n",
       "    </tr>\n",
       "    <tr>\n",
       "      <th>quotation mark</th>\n",
       "      <td>10307</td>\n",
       "    </tr>\n",
       "  </tbody>\n",
       "</table>\n",
       "</div>"
      ],
      "text/plain": [
       "                Count\n",
       "period          74207\n",
       "comma           51960\n",
       "elipses         46485\n",
       "apostrophe      16908\n",
       "quotation mark  10307"
      ]
     },
     "execution_count": 29,
     "metadata": {},
     "output_type": "execute_result"
    }
   ],
   "source": [
    "\n",
    "extractor = fe.get_extractor()\n",
    "print(\"The five most frequent punctuation marks\")\n",
    "extractor.counts[0:5]"
   ]
  },
  {
   "cell_type": "code",
   "execution_count": 30,
   "metadata": {},
   "outputs": [
    {
     "data": {
      "text/html": [
       "<h3>Random Selection with Number of Punctuation Marks</h3>"
      ],
      "text/plain": [
       "<IPython.core.display.HTML object>"
      ]
     },
     "metadata": {},
     "output_type": "display_data"
    },
    {
     "data": {
      "text/html": [
       "<div>\n",
       "<style scoped>\n",
       "    .dataframe tbody tr th:only-of-type {\n",
       "        vertical-align: middle;\n",
       "    }\n",
       "\n",
       "    .dataframe tbody tr th {\n",
       "        vertical-align: top;\n",
       "    }\n",
       "\n",
       "    .dataframe thead th {\n",
       "        text-align: right;\n",
       "    }\n",
       "</style>\n",
       "<table border=\"1\" class=\"dataframe\">\n",
       "  <thead>\n",
       "    <tr style=\"text-align: right;\">\n",
       "      <th></th>\n",
       "      <th>23387</th>\n",
       "    </tr>\n",
       "  </thead>\n",
       "  <tbody>\n",
       "    <tr>\n",
       "      <th>discourse_id</th>\n",
       "      <td>9ece01ae9c08</td>\n",
       "    </tr>\n",
       "    <tr>\n",
       "      <th>essay_id</th>\n",
       "      <td>76D57BCC7A10</td>\n",
       "    </tr>\n",
       "    <tr>\n",
       "      <th>discourse_text</th>\n",
       "      <td>not the people that work as hard as they possibly can all day and barley have their eight hours of rest shouldn't be doing it the \"other guys should\".</td>\n",
       "    </tr>\n",
       "    <tr>\n",
       "      <th>discourse_type</th>\n",
       "      <td>Rebuttal</td>\n",
       "    </tr>\n",
       "    <tr>\n",
       "      <th>discourse_effectiveness</th>\n",
       "      <td>Adequate</td>\n",
       "    </tr>\n",
       "    <tr>\n",
       "      <th>punctuation</th>\n",
       "      <td>4</td>\n",
       "    </tr>\n",
       "  </tbody>\n",
       "</table>\n",
       "</div>"
      ],
      "text/plain": [
       "                                                                                                                                                                           23387\n",
       "discourse_id                                                                                                                                                        9ece01ae9c08\n",
       "essay_id                                                                                                                                                            76D57BCC7A10\n",
       "discourse_text           not the people that work as hard as they possibly can all day and barley have their eight hours of rest shouldn't be doing it the \"other guys should\". \n",
       "discourse_type                                                                                                                                                          Rebuttal\n",
       "discourse_effectiveness                                                                                                                                                 Adequate\n",
       "punctuation                                                                                                                                                                    4"
      ]
     },
     "execution_count": 30,
     "metadata": {},
     "output_type": "execute_result"
    }
   ],
   "source": [
    "display(HTML(\"<h3>Random Selection with Number of Punctuation Marks</h3>\"))\n",
    "fe.random_discourse"
   ]
  },
  {
   "cell_type": "markdown",
   "metadata": {},
   "source": [
    "### Words <a class=\"anchor\" id=\"words\"></a>"
   ]
  },
  {
   "cell_type": "code",
   "execution_count": 31,
   "metadata": {},
   "outputs": [
    {
     "name": "stdout",
     "output_type": "stream",
     "text": [
      "The dataset contains 1,680,956 words\n"
     ]
    },
    {
     "data": {
      "text/html": [
       "<h3>The descriptive statistics of words per discourse</h3>"
      ],
      "text/plain": [
       "<IPython.core.display.HTML object>"
      ]
     },
     "metadata": {},
     "output_type": "display_data"
    },
    {
     "data": {
      "text/html": [
       "<div>\n",
       "<style scoped>\n",
       "    .dataframe tbody tr th:only-of-type {\n",
       "        vertical-align: middle;\n",
       "    }\n",
       "\n",
       "    .dataframe tbody tr th {\n",
       "        vertical-align: top;\n",
       "    }\n",
       "\n",
       "    .dataframe thead th {\n",
       "        text-align: right;\n",
       "    }\n",
       "</style>\n",
       "<table border=\"1\" class=\"dataframe\">\n",
       "  <thead>\n",
       "    <tr style=\"text-align: right;\">\n",
       "      <th></th>\n",
       "      <th>count</th>\n",
       "      <th>mean</th>\n",
       "      <th>std</th>\n",
       "      <th>min</th>\n",
       "      <th>25%</th>\n",
       "      <th>50%</th>\n",
       "      <th>75%</th>\n",
       "      <th>max</th>\n",
       "    </tr>\n",
       "  </thead>\n",
       "  <tbody>\n",
       "    <tr>\n",
       "      <th>words</th>\n",
       "      <td>36,765.00</td>\n",
       "      <td>45.72</td>\n",
       "      <td>46.64</td>\n",
       "      <td>2.00</td>\n",
       "      <td>17.00</td>\n",
       "      <td>29.00</td>\n",
       "      <td>58.00</td>\n",
       "      <td>831.00</td>\n",
       "    </tr>\n",
       "  </tbody>\n",
       "</table>\n",
       "</div>"
      ],
      "text/plain": [
       "          count  mean   std  min   25%   50%   75%    max\n",
       "words 36,765.00 45.72 46.64 2.00 17.00 29.00 58.00 831.00"
      ]
     },
     "execution_count": 31,
     "metadata": {},
     "output_type": "execute_result"
    }
   ],
   "source": [
    "fe.feature = 'words'\n",
    "print(\"The dataset contains {} words\".format(pint(fe.total)))\n",
    "display(HTML(\"<h3>The descriptive statistics of words per discourse</h3>\"))\n",
    "fe.statistics"
   ]
  },
  {
   "cell_type": "markdown",
   "metadata": {},
   "source": [
    "The average word count per discourse is approximately 45 words, yet the standard deviation and range indicate considerable variation in words per discourse texts. "
   ]
  },
  {
   "cell_type": "code",
   "execution_count": 32,
   "metadata": {},
   "outputs": [
    {
     "data": {
      "image/png": "[encoded data removed]",
      "text/plain": [
       "<Figure size 720x360 with 1 Axes>"
      ]
     },
     "metadata": {},
     "output_type": "display_data"
    }
   ],
   "source": [
    "fig = plt.figure(figsize=FIG_SIZE, tight_layout=True)\n",
    "title = \"Distribution of Words Across Discourse Texts\"\n",
    "xlab = \"Num Words per Discourse\"\n",
    "ylab = \"Counts\"\n",
    "fig = fe.plot(fig=fig,title=title, xlab=xlab,ylab=ylab)"
   ]
  },
  {
   "cell_type": "code",
   "execution_count": 33,
   "metadata": {},
   "outputs": [
    {
     "data": {
      "text/html": [
       "<h3>Random Selection with Number of Words</h3>"
      ],
      "text/plain": [
       "<IPython.core.display.HTML object>"
      ]
     },
     "metadata": {},
     "output_type": "display_data"
    },
    {
     "data": {
      "text/html": [
       "<div>\n",
       "<style scoped>\n",
       "    .dataframe tbody tr th:only-of-type {\n",
       "        vertical-align: middle;\n",
       "    }\n",
       "\n",
       "    .dataframe tbody tr th {\n",
       "        vertical-align: top;\n",
       "    }\n",
       "\n",
       "    .dataframe thead th {\n",
       "        text-align: right;\n",
       "    }\n",
       "</style>\n",
       "<table border=\"1\" class=\"dataframe\">\n",
       "  <thead>\n",
       "    <tr style=\"text-align: right;\">\n",
       "      <th></th>\n",
       "      <th>2245</th>\n",
       "    </tr>\n",
       "  </thead>\n",
       "  <tbody>\n",
       "    <tr>\n",
       "      <th>discourse_id</th>\n",
       "      <td>219897bb3d97</td>\n",
       "    </tr>\n",
       "    <tr>\n",
       "      <th>essay_id</th>\n",
       "      <td>291AAEA628E1</td>\n",
       "    </tr>\n",
       "    <tr>\n",
       "      <th>discourse_text</th>\n",
       "      <td>Now people know that venus is not fit for life forms now. Even people who have gotten close anough to venus couldnt get even close to study the surface of venus. They dont get a whole lot of time to look at venus because of its light and how bright it is, if people attempted to take a photo of venus it would not come out how they wanted. They only way we get any idea of venus and its surface is from the human eye. We are never able to get close anough for samples because we would need to get extremely close and we cant because of its heat, gases. Venus could easily burn through most metals from earth, but astronomers think using old technology or a mechanical computer could help figure out more on venus. The mechanical computer actually doesnt involve electronical equipment. Thats how the parts to the mechanical computer is made, is by heat, pressure and other types of forces</td>\n",
       "    </tr>\n",
       "    <tr>\n",
       "      <th>discourse_type</th>\n",
       "      <td>Evidence</td>\n",
       "    </tr>\n",
       "    <tr>\n",
       "      <th>discourse_effectiveness</th>\n",
       "      <td>Ineffective</td>\n",
       "    </tr>\n",
       "    <tr>\n",
       "      <th>words</th>\n",
       "      <td>166</td>\n",
       "    </tr>\n",
       "  </tbody>\n",
       "</table>\n",
       "</div>"
      ],
      "text/plain": [
       "                                                                                                                                                                                                                                                                                                                                                                                                                                                                                                                                                                                                                                                                                                                                                                                                                                                                                                                                              2245\n",
       "discourse_id                                                                                                                                                                                                                                                                                                                                                                                                                                                                                                                                                                                                                                                                                                                                                                                                                                                                                                                          219897bb3d97\n",
       "essay_id                                                                                                                                                                                                                                                                                                                                                                                                                                                                                                                                                                                                                                                                                                                                                                                                                                                                                                                              291AAEA628E1\n",
       "discourse_text           Now people know that venus is not fit for life forms now. Even people who have gotten close anough to venus couldnt get even close to study the surface of venus. They dont get a whole lot of time to look at venus because of its light and how bright it is, if people attempted to take a photo of venus it would not come out how they wanted. They only way we get any idea of venus and its surface is from the human eye. We are never able to get close anough for samples because we would need to get extremely close and we cant because of its heat, gases. Venus could easily burn through most metals from earth, but astronomers think using old technology or a mechanical computer could help figure out more on venus. The mechanical computer actually doesnt involve electronical equipment. Thats how the parts to the mechanical computer is made, is by heat, pressure and other types of forces \n",
       "discourse_type                                                                                                                                                                                                                                                                                                                                                                                                                                                                                                                                                                                                                                                                                                                                                                                                                                                                                                                            Evidence\n",
       "discourse_effectiveness                                                                                                                                                                                                                                                                                                                                                                                                                                                                                                                                                                                                                                                                                                                                                                                                                                                                                                                Ineffective\n",
       "words                                                                                                                                                                                                                                                                                                                                                                                                                                                                                                                                                                                                                                                                                                                                                                                                                                                                                                                                          166"
      ]
     },
     "execution_count": 33,
     "metadata": {},
     "output_type": "execute_result"
    }
   ],
   "source": [
    "display(HTML(\"<h3>Random Selection with Number of Words</h3>\"))\n",
    "fe.random_discourse"
   ]
  },
  {
   "cell_type": "markdown",
   "metadata": {},
   "source": [
    "### Word Length <a class=\"anchor\" id=\"word_length\"></a>"
   ]
  },
  {
   "cell_type": "code",
   "execution_count": 34,
   "metadata": {},
   "outputs": [
    {
     "name": "stdout",
     "output_type": "stream",
     "text": [
      "The average word length across the corpus is 170,135.40065808917 characters\n"
     ]
    },
    {
     "data": {
      "text/html": [
       "<h3>The descriptive statistics of average word length per discourse</h3>"
      ],
      "text/plain": [
       "<IPython.core.display.HTML object>"
      ]
     },
     "metadata": {},
     "output_type": "display_data"
    },
    {
     "data": {
      "text/html": [
       "<div>\n",
       "<style scoped>\n",
       "    .dataframe tbody tr th:only-of-type {\n",
       "        vertical-align: middle;\n",
       "    }\n",
       "\n",
       "    .dataframe tbody tr th {\n",
       "        vertical-align: top;\n",
       "    }\n",
       "\n",
       "    .dataframe thead th {\n",
       "        text-align: right;\n",
       "    }\n",
       "</style>\n",
       "<table border=\"1\" class=\"dataframe\">\n",
       "  <thead>\n",
       "    <tr style=\"text-align: right;\">\n",
       "      <th></th>\n",
       "      <th>count</th>\n",
       "      <th>mean</th>\n",
       "      <th>std</th>\n",
       "      <th>min</th>\n",
       "      <th>25%</th>\n",
       "      <th>50%</th>\n",
       "      <th>75%</th>\n",
       "      <th>max</th>\n",
       "    </tr>\n",
       "  </thead>\n",
       "  <tbody>\n",
       "    <tr>\n",
       "      <th>word_length</th>\n",
       "      <td>36,765.00</td>\n",
       "      <td>4.63</td>\n",
       "      <td>0.69</td>\n",
       "      <td>2.17</td>\n",
       "      <td>4.20</td>\n",
       "      <td>4.56</td>\n",
       "      <td>4.96</td>\n",
       "      <td>19.00</td>\n",
       "    </tr>\n",
       "  </tbody>\n",
       "</table>\n",
       "</div>"
      ],
      "text/plain": [
       "                count  mean  std  min  25%  50%  75%   max\n",
       "word_length 36,765.00  4.63 0.69 2.17 4.20 4.56 4.96 19.00"
      ]
     },
     "execution_count": 34,
     "metadata": {},
     "output_type": "execute_result"
    }
   ],
   "source": [
    "fe.feature = 'word_length'\n",
    "print(\"The average word length across the corpus is {} characters\".format(pint(fe.total)))\n",
    "display(HTML(\"<h3>The descriptive statistics of average word length per discourse</h3>\"))\n",
    "fe.statistics"
   ]
  },
  {
   "cell_type": "markdown",
   "metadata": {},
   "source": [
    "The inter-quartile range of vocabulary is [16,46], a reasonably wide range. In the exploratory data analysis, we'll examine the relationships between vocabulary and performance rating. Meanwhile, let's evaluate sentence characteristics."
   ]
  },
  {
   "cell_type": "code",
   "execution_count": 35,
   "metadata": {},
   "outputs": [
    {
     "data": {
      "image/png": "[encoded data removed]",
      "text/plain": [
       "<Figure size 720x360 with 1 Axes>"
      ]
     },
     "metadata": {},
     "output_type": "display_data"
    }
   ],
   "source": [
    "fig = plt.figure(figsize=FIG_SIZE, tight_layout=True)\n",
    "title = \"Distribution of Word Lengths Across Discourse Texts\"\n",
    "xlab = \"Word Lengths per Discourse\"\n",
    "ylab = \"Counts\"\n",
    "fig = fe.plot(fig=fig,title=title, xlab=xlab,ylab=ylab)"
   ]
  },
  {
   "cell_type": "code",
   "execution_count": 36,
   "metadata": {},
   "outputs": [
    {
     "data": {
      "text/html": [
       "<h3>Random Selection with Average Word Length</h3>"
      ],
      "text/plain": [
       "<IPython.core.display.HTML object>"
      ]
     },
     "metadata": {},
     "output_type": "display_data"
    },
    {
     "data": {
      "text/html": [
       "<div>\n",
       "<style scoped>\n",
       "    .dataframe tbody tr th:only-of-type {\n",
       "        vertical-align: middle;\n",
       "    }\n",
       "\n",
       "    .dataframe tbody tr th {\n",
       "        vertical-align: top;\n",
       "    }\n",
       "\n",
       "    .dataframe thead th {\n",
       "        text-align: right;\n",
       "    }\n",
       "</style>\n",
       "<table border=\"1\" class=\"dataframe\">\n",
       "  <thead>\n",
       "    <tr style=\"text-align: right;\">\n",
       "      <th></th>\n",
       "      <th>27037</th>\n",
       "    </tr>\n",
       "  </thead>\n",
       "  <tbody>\n",
       "    <tr>\n",
       "      <th>discourse_id</th>\n",
       "      <td>d5478a9e80a6</td>\n",
       "    </tr>\n",
       "    <tr>\n",
       "      <th>essay_id</th>\n",
       "      <td>A98E8EFFC8A9</td>\n",
       "    </tr>\n",
       "    <tr>\n",
       "      <th>discourse_text</th>\n",
       "      <td>For everyone else around a driverless car, would always be in great danger.</td>\n",
       "    </tr>\n",
       "    <tr>\n",
       "      <th>discourse_type</th>\n",
       "      <td>Claim</td>\n",
       "    </tr>\n",
       "    <tr>\n",
       "      <th>discourse_effectiveness</th>\n",
       "      <td>Adequate</td>\n",
       "    </tr>\n",
       "    <tr>\n",
       "      <th>word_length</th>\n",
       "      <td>4.85</td>\n",
       "    </tr>\n",
       "  </tbody>\n",
       "</table>\n",
       "</div>"
      ],
      "text/plain": [
       "                                                                                                27037\n",
       "discourse_id                                                                             d5478a9e80a6\n",
       "essay_id                                                                                 A98E8EFFC8A9\n",
       "discourse_text           For everyone else around a driverless car, would always be in great danger. \n",
       "discourse_type                                                                                  Claim\n",
       "discourse_effectiveness                                                                      Adequate\n",
       "word_length                                                                                      4.85"
      ]
     },
     "execution_count": 36,
     "metadata": {},
     "output_type": "execute_result"
    }
   ],
   "source": [
    "display(HTML(\"<h3>Random Selection with Average Word Length</h3>\"))\n",
    "fe.random_discourse"
   ]
  },
  {
   "cell_type": "markdown",
   "metadata": {},
   "source": [
    "### Upper Case Words <a class=\"anchor\" id=\"word_length\"></a>\n",
    "Words in upper case typically imply emphasis or emotion. "
   ]
  },
  {
   "cell_type": "code",
   "execution_count": 37,
   "metadata": {},
   "outputs": [
    {
     "data": {
      "text/html": [
       "<h3>The descriptive statistics of upper case word ratios per discourse</h3>"
      ],
      "text/plain": [
       "<IPython.core.display.HTML object>"
      ]
     },
     "metadata": {},
     "output_type": "display_data"
    },
    {
     "data": {
      "text/html": [
       "<div>\n",
       "<style scoped>\n",
       "    .dataframe tbody tr th:only-of-type {\n",
       "        vertical-align: middle;\n",
       "    }\n",
       "\n",
       "    .dataframe tbody tr th {\n",
       "        vertical-align: top;\n",
       "    }\n",
       "\n",
       "    .dataframe thead th {\n",
       "        text-align: right;\n",
       "    }\n",
       "</style>\n",
       "<table border=\"1\" class=\"dataframe\">\n",
       "  <thead>\n",
       "    <tr style=\"text-align: right;\">\n",
       "      <th></th>\n",
       "      <th>count</th>\n",
       "      <th>mean</th>\n",
       "      <th>std</th>\n",
       "      <th>min</th>\n",
       "      <th>25%</th>\n",
       "      <th>50%</th>\n",
       "      <th>75%</th>\n",
       "      <th>max</th>\n",
       "    </tr>\n",
       "  </thead>\n",
       "  <tbody>\n",
       "    <tr>\n",
       "      <th>upper_case</th>\n",
       "      <td>36,765.00</td>\n",
       "      <td>0.01</td>\n",
       "      <td>0.04</td>\n",
       "      <td>0.00</td>\n",
       "      <td>0.00</td>\n",
       "      <td>0.00</td>\n",
       "      <td>0.00</td>\n",
       "      <td>1.00</td>\n",
       "    </tr>\n",
       "  </tbody>\n",
       "</table>\n",
       "</div>"
      ],
      "text/plain": [
       "               count  mean  std  min  25%  50%  75%  max\n",
       "upper_case 36,765.00  0.01 0.04 0.00 0.00 0.00 0.00 1.00"
      ]
     },
     "execution_count": 37,
     "metadata": {},
     "output_type": "execute_result"
    }
   ],
   "source": [
    "fe.feature = 'upper_case'\n",
    "display(HTML(\"<h3>The descriptive statistics of upper case word ratios per discourse</h3>\"))\n",
    "fe.statistics"
   ]
  },
  {
   "cell_type": "code",
   "execution_count": 38,
   "metadata": {},
   "outputs": [
    {
     "data": {
      "image/png": "[encoded data removed]",
      "text/plain": [
       "<Figure size 720x360 with 1 Axes>"
      ]
     },
     "metadata": {},
     "output_type": "display_data"
    }
   ],
   "source": [
    "fig = plt.figure(figsize=FIG_SIZE, tight_layout=True)\n",
    "title = \"Distribution of Upper Case Word Ratios Across Discourse Texts\"\n",
    "xlab = \"Number of Upper Case Word Ratios per Discourse\"\n",
    "ylab = \"Counts\"\n",
    "fig = fe.plot(fig=fig,title=title, xlab=xlab,ylab=ylab)"
   ]
  },
  {
   "cell_type": "markdown",
   "metadata": {},
   "source": [
    "I'd like to read the argument with 297 upper case words! Actually, let's take a look."
   ]
  },
  {
   "cell_type": "code",
   "execution_count": 39,
   "metadata": {},
   "outputs": [
    {
     "data": {
      "text/html": [
       "<h3>Observation with Maximum Upper Case Word Ratio</h3>"
      ],
      "text/plain": [
       "<IPython.core.display.HTML object>"
      ]
     },
     "metadata": {},
     "output_type": "display_data"
    },
    {
     "data": {
      "text/plain": [
       "'CAUSE I THINK THAT STUDENTS SHOULD GET TOGETHER IN HELP OUR SCHOOL BY DOING WORK. '"
      ]
     },
     "execution_count": 39,
     "metadata": {},
     "output_type": "execute_result"
    }
   ],
   "source": [
    "display(HTML(\"<h3>Observation with Maximum Upper Case Word Ratio</h3>\"))\n",
    "fe.features[fe.features['upper_case'] == 1]['discourse_text'].values[0]"
   ]
  },
  {
   "cell_type": "markdown",
   "metadata": {},
   "source": [
    "### Stop Words Ratio <a class=\"anchor\" id=\"stopwords\"></a>"
   ]
  },
  {
   "cell_type": "code",
   "execution_count": 40,
   "metadata": {},
   "outputs": [
    {
     "name": "stdout",
     "output_type": "stream",
     "text": [
      "The descriptive statistics of stop words ratio per discourse\n"
     ]
    },
    {
     "data": {
      "text/html": [
       "<div>\n",
       "<style scoped>\n",
       "    .dataframe tbody tr th:only-of-type {\n",
       "        vertical-align: middle;\n",
       "    }\n",
       "\n",
       "    .dataframe tbody tr th {\n",
       "        vertical-align: top;\n",
       "    }\n",
       "\n",
       "    .dataframe thead th {\n",
       "        text-align: right;\n",
       "    }\n",
       "</style>\n",
       "<table border=\"1\" class=\"dataframe\">\n",
       "  <thead>\n",
       "    <tr style=\"text-align: right;\">\n",
       "      <th></th>\n",
       "      <th>count</th>\n",
       "      <th>mean</th>\n",
       "      <th>std</th>\n",
       "      <th>min</th>\n",
       "      <th>25%</th>\n",
       "      <th>50%</th>\n",
       "      <th>75%</th>\n",
       "      <th>max</th>\n",
       "    </tr>\n",
       "  </thead>\n",
       "  <tbody>\n",
       "    <tr>\n",
       "      <th>stopwords</th>\n",
       "      <td>36,765.00</td>\n",
       "      <td>0.45</td>\n",
       "      <td>0.10</td>\n",
       "      <td>0.00</td>\n",
       "      <td>0.40</td>\n",
       "      <td>0.45</td>\n",
       "      <td>0.51</td>\n",
       "      <td>1.00</td>\n",
       "    </tr>\n",
       "  </tbody>\n",
       "</table>\n",
       "</div>"
      ],
      "text/plain": [
       "              count  mean  std  min  25%  50%  75%  max\n",
       "stopwords 36,765.00  0.45 0.10 0.00 0.40 0.45 0.51 1.00"
      ]
     },
     "execution_count": 40,
     "metadata": {},
     "output_type": "execute_result"
    }
   ],
   "source": [
    "fe.feature = 'stopwords'\n",
    "print(\"The descriptive statistics of stop words ratio per discourse\")\n",
    "fe.statistics"
   ]
  },
  {
   "cell_type": "code",
   "execution_count": 41,
   "metadata": {},
   "outputs": [
    {
     "data": {
      "image/png": "[encoded data removed]",
      "text/plain": [
       "<Figure size 720x360 with 1 Axes>"
      ]
     },
     "metadata": {},
     "output_type": "display_data"
    }
   ],
   "source": [
    "fig = plt.figure(figsize=FIG_SIZE, tight_layout=True)\n",
    "title = \"Distribution of Stop Word Ratios Across Discourse Texts\"\n",
    "xlab = \"Frequency of Stop Word Ratios per Discourse\"\n",
    "ylab = \"Counts\"\n",
    "fig = fe.plot(fig=fig,title=title, xlab=xlab,ylab=ylab)"
   ]
  },
  {
   "cell_type": "code",
   "execution_count": 42,
   "metadata": {},
   "outputs": [
    {
     "data": {
      "text/html": [
       "<h3>Random Selection with Stop Word Ratio</h3>"
      ],
      "text/plain": [
       "<IPython.core.display.HTML object>"
      ]
     },
     "metadata": {},
     "output_type": "display_data"
    },
    {
     "data": {
      "text/html": [
       "<div>\n",
       "<style scoped>\n",
       "    .dataframe tbody tr th:only-of-type {\n",
       "        vertical-align: middle;\n",
       "    }\n",
       "\n",
       "    .dataframe tbody tr th {\n",
       "        vertical-align: top;\n",
       "    }\n",
       "\n",
       "    .dataframe thead th {\n",
       "        text-align: right;\n",
       "    }\n",
       "</style>\n",
       "<table border=\"1\" class=\"dataframe\">\n",
       "  <thead>\n",
       "    <tr style=\"text-align: right;\">\n",
       "      <th></th>\n",
       "      <th>22829</th>\n",
       "    </tr>\n",
       "  </thead>\n",
       "  <tbody>\n",
       "    <tr>\n",
       "      <th>discourse_id</th>\n",
       "      <td>dacfd26ddd26</td>\n",
       "    </tr>\n",
       "    <tr>\n",
       "      <th>essay_id</th>\n",
       "      <td>7203112033A1</td>\n",
       "    </tr>\n",
       "    <tr>\n",
       "      <th>discourse_text</th>\n",
       "      <td>3 OPINION: Why not just try it. I think you guys or girls, or whatever should give it a try because not everyone has the privilege to have sort of secondary learning challenge</td>\n",
       "    </tr>\n",
       "    <tr>\n",
       "      <th>discourse_type</th>\n",
       "      <td>Claim</td>\n",
       "    </tr>\n",
       "    <tr>\n",
       "      <th>discourse_effectiveness</th>\n",
       "      <td>Adequate</td>\n",
       "    </tr>\n",
       "    <tr>\n",
       "      <th>stopwords</th>\n",
       "      <td>0.45</td>\n",
       "    </tr>\n",
       "  </tbody>\n",
       "</table>\n",
       "</div>"
      ],
      "text/plain": [
       "                                                                                                                                                                                                    22829\n",
       "discourse_id                                                                                                                                                                                 dacfd26ddd26\n",
       "essay_id                                                                                                                                                                                     7203112033A1\n",
       "discourse_text           3 OPINION: Why not just try it. I think you guys or girls, or whatever should give it a try because not everyone has the privilege to have sort of secondary learning challenge \n",
       "discourse_type                                                                                                                                                                                      Claim\n",
       "discourse_effectiveness                                                                                                                                                                          Adequate\n",
       "stopwords                                                                                                                                                                                            0.45"
      ]
     },
     "execution_count": 42,
     "metadata": {},
     "output_type": "execute_result"
    }
   ],
   "source": [
    "display(HTML(\"<h3>Random Selection with Stop Word Ratio</h3>\"))\n",
    "fe.random_discourse"
   ]
  },
  {
   "cell_type": "markdown",
   "metadata": {},
   "source": [
    "### Sentences <a class=\"anchor\" id=\"sentences\"></a>"
   ]
  },
  {
   "cell_type": "code",
   "execution_count": 43,
   "metadata": {},
   "outputs": [
    {
     "name": "stdout",
     "output_type": "stream",
     "text": [
      "There are 84,112 sentences in the corpus.\n",
      "The descriptive statistics of sentence counts per discourse\n"
     ]
    },
    {
     "data": {
      "text/html": [
       "<div>\n",
       "<style scoped>\n",
       "    .dataframe tbody tr th:only-of-type {\n",
       "        vertical-align: middle;\n",
       "    }\n",
       "\n",
       "    .dataframe tbody tr th {\n",
       "        vertical-align: top;\n",
       "    }\n",
       "\n",
       "    .dataframe thead th {\n",
       "        text-align: right;\n",
       "    }\n",
       "</style>\n",
       "<table border=\"1\" class=\"dataframe\">\n",
       "  <thead>\n",
       "    <tr style=\"text-align: right;\">\n",
       "      <th></th>\n",
       "      <th>count</th>\n",
       "      <th>mean</th>\n",
       "      <th>std</th>\n",
       "      <th>min</th>\n",
       "      <th>25%</th>\n",
       "      <th>50%</th>\n",
       "      <th>75%</th>\n",
       "      <th>max</th>\n",
       "    </tr>\n",
       "  </thead>\n",
       "  <tbody>\n",
       "    <tr>\n",
       "      <th>sentences</th>\n",
       "      <td>36,765.00</td>\n",
       "      <td>2.29</td>\n",
       "      <td>2.25</td>\n",
       "      <td>1.00</td>\n",
       "      <td>1.00</td>\n",
       "      <td>1.00</td>\n",
       "      <td>3.00</td>\n",
       "      <td>41.00</td>\n",
       "    </tr>\n",
       "  </tbody>\n",
       "</table>\n",
       "</div>"
      ],
      "text/plain": [
       "              count  mean  std  min  25%  50%  75%   max\n",
       "sentences 36,765.00  2.29 2.25 1.00 1.00 1.00 3.00 41.00"
      ]
     },
     "execution_count": 43,
     "metadata": {},
     "output_type": "execute_result"
    }
   ],
   "source": [
    "fe.feature = 'sentences'\n",
    "print(\"There are {} sentences in the corpus.\".format(pint(fe.total)))\n",
    "print(\"The descriptive statistics of sentence counts per discourse\")\n",
    "fe.statistics"
   ]
  },
  {
   "cell_type": "code",
   "execution_count": 44,
   "metadata": {},
   "outputs": [
    {
     "data": {
      "image/png": "[encoded data removed]",
      "text/plain": [
       "<Figure size 720x360 with 1 Axes>"
      ]
     },
     "metadata": {},
     "output_type": "display_data"
    }
   ],
   "source": [
    "fig = plt.figure(figsize=FIG_SIZE, tight_layout=True)\n",
    "title = \"Distribution of Sentences Across Discourse Texts\"\n",
    "xlab = \"Number of Sentences per Discourse\"\n",
    "ylab = \"Counts\"\n",
    "fig = fe.plot(fig=fig,title=title, xlab=xlab,ylab=ylab)"
   ]
  },
  {
   "cell_type": "code",
   "execution_count": 45,
   "metadata": {},
   "outputs": [
    {
     "data": {
      "text/html": [
       "<h3>Random Selection with Number of Sentences</h3>"
      ],
      "text/plain": [
       "<IPython.core.display.HTML object>"
      ]
     },
     "metadata": {},
     "output_type": "display_data"
    },
    {
     "data": {
      "text/html": [
       "<div>\n",
       "<style scoped>\n",
       "    .dataframe tbody tr th:only-of-type {\n",
       "        vertical-align: middle;\n",
       "    }\n",
       "\n",
       "    .dataframe tbody tr th {\n",
       "        vertical-align: top;\n",
       "    }\n",
       "\n",
       "    .dataframe thead th {\n",
       "        text-align: right;\n",
       "    }\n",
       "</style>\n",
       "<table border=\"1\" class=\"dataframe\">\n",
       "  <thead>\n",
       "    <tr style=\"text-align: right;\">\n",
       "      <th></th>\n",
       "      <th>5085</th>\n",
       "    </tr>\n",
       "  </thead>\n",
       "  <tbody>\n",
       "    <tr>\n",
       "      <th>discourse_id</th>\n",
       "      <td>7dff03b6689e</td>\n",
       "    </tr>\n",
       "    <tr>\n",
       "      <th>essay_id</th>\n",
       "      <td>5C01C98F3655</td>\n",
       "    </tr>\n",
       "    <tr>\n",
       "      <th>discourse_text</th>\n",
       "      <td>We cattle boat sailers don't give up we are resilient. I bet you are resilient to so sign up. You get to travel get to see some places you never seen before. Sometimes you might even go on a avanture. If you dont believe me you can scrutinize this sign up sheet. The ocean wheather can get surreal but we cattle boat sailers dont give up! You get to see China you'll see Europe. While your traveling you get to haul horses and cattle. The horses will have enough food to last for the trip the record for the most trips is nine trips aint that crazy. Well if you sign up today you might be the one to beat that record so get started by signing up right now for free today.</td>\n",
       "    </tr>\n",
       "    <tr>\n",
       "      <th>discourse_type</th>\n",
       "      <td>Evidence</td>\n",
       "    </tr>\n",
       "    <tr>\n",
       "      <th>discourse_effectiveness</th>\n",
       "      <td>Adequate</td>\n",
       "    </tr>\n",
       "    <tr>\n",
       "      <th>sentences</th>\n",
       "      <td>10</td>\n",
       "    </tr>\n",
       "  </tbody>\n",
       "</table>\n",
       "</div>"
      ],
      "text/plain": [
       "                                                                                                                                                                                                                                                                                                                                                                                                                                                                                                                                                                                                                                                                                                                     5085\n",
       "discourse_id                                                                                                                                                                                                                                                                                                                                                                                                                                                                                                                                                                                                                                                                                                 7dff03b6689e\n",
       "essay_id                                                                                                                                                                                                                                                                                                                                                                                                                                                                                                                                                                                                                                                                                                     5C01C98F3655\n",
       "discourse_text           We cattle boat sailers don't give up we are resilient. I bet you are resilient to so sign up. You get to travel get to see some places you never seen before. Sometimes you might even go on a avanture. If you dont believe me you can scrutinize this sign up sheet. The ocean wheather can get surreal but we cattle boat sailers dont give up! You get to see China you'll see Europe. While your traveling you get to haul horses and cattle. The horses will have enough food to last for the trip the record for the most trips is nine trips aint that crazy. Well if you sign up today you might be the one to beat that record so get started by signing up right now for free today. \n",
       "discourse_type                                                                                                                                                                                                                                                                                                                                                                                                                                                                                                                                                                                                                                                                                                   Evidence\n",
       "discourse_effectiveness                                                                                                                                                                                                                                                                                                                                                                                                                                                                                                                                                                                                                                                                                          Adequate\n",
       "sentences                                                                                                                                                                                                                                                                                                                                                                                                                                                                                                                                                                                                                                                                                                              10"
      ]
     },
     "execution_count": 45,
     "metadata": {},
     "output_type": "execute_result"
    }
   ],
   "source": [
    "display(HTML(\"<h3>Random Selection with Number of Sentences</h3>\"))\n",
    "fe.random_discourse"
   ]
  },
  {
   "cell_type": "markdown",
   "metadata": {},
   "source": [
    "### Sentence Length <a class=\"anchor\" id=\"sentence_length\"></a>"
   ]
  },
  {
   "cell_type": "code",
   "execution_count": 46,
   "metadata": {},
   "outputs": [
    {
     "name": "stdout",
     "output_type": "stream",
     "text": [
      "There average sentence length per discourse is 723,741.4148596779.\n",
      "The descriptive statistics of sentence length\n"
     ]
    },
    {
     "data": {
      "text/html": [
       "<div>\n",
       "<style scoped>\n",
       "    .dataframe tbody tr th:only-of-type {\n",
       "        vertical-align: middle;\n",
       "    }\n",
       "\n",
       "    .dataframe tbody tr th {\n",
       "        vertical-align: top;\n",
       "    }\n",
       "\n",
       "    .dataframe thead th {\n",
       "        text-align: right;\n",
       "    }\n",
       "</style>\n",
       "<table border=\"1\" class=\"dataframe\">\n",
       "  <thead>\n",
       "    <tr style=\"text-align: right;\">\n",
       "      <th></th>\n",
       "      <th>count</th>\n",
       "      <th>mean</th>\n",
       "      <th>std</th>\n",
       "      <th>min</th>\n",
       "      <th>25%</th>\n",
       "      <th>50%</th>\n",
       "      <th>75%</th>\n",
       "      <th>max</th>\n",
       "    </tr>\n",
       "  </thead>\n",
       "  <tbody>\n",
       "    <tr>\n",
       "      <th>sentence_length</th>\n",
       "      <td>36,765.00</td>\n",
       "      <td>19.69</td>\n",
       "      <td>11.71</td>\n",
       "      <td>1.00</td>\n",
       "      <td>13.00</td>\n",
       "      <td>18.00</td>\n",
       "      <td>24.00</td>\n",
       "      <td>693.00</td>\n",
       "    </tr>\n",
       "  </tbody>\n",
       "</table>\n",
       "</div>"
      ],
      "text/plain": [
       "                    count  mean   std  min   25%   50%   75%    max\n",
       "sentence_length 36,765.00 19.69 11.71 1.00 13.00 18.00 24.00 693.00"
      ]
     },
     "execution_count": 46,
     "metadata": {},
     "output_type": "execute_result"
    }
   ],
   "source": [
    "fe.feature = 'sentence_length'\n",
    "print(\"There average sentence length per discourse is {}.\".format(pint(fe.total)))\n",
    "print(\"The descriptive statistics of sentence length\")\n",
    "fe.statistics"
   ]
  },
  {
   "cell_type": "code",
   "execution_count": 47,
   "metadata": {},
   "outputs": [
    {
     "data": {
      "image/png": "[encoded data removed]",
      "text/plain": [
       "<Figure size 720x360 with 1 Axes>"
      ]
     },
     "metadata": {},
     "output_type": "display_data"
    }
   ],
   "source": [
    "fig = plt.figure(figsize=FIG_SIZE, tight_layout=True)\n",
    "title = \"Distribution of Average Sentence Lengths Across Discourse Texts\"\n",
    "xlab = \"Frequency of Average Sentence Lengths per Discourse\"\n",
    "ylab = \"Counts\"\n",
    "fig = fe.plot(fig=fig,title=title, xlab=xlab,ylab=ylab)"
   ]
  },
  {
   "cell_type": "code",
   "execution_count": 48,
   "metadata": {},
   "outputs": [
    {
     "data": {
      "text/html": [
       "<h3>Random Selection with Average Sentence Lengths</h3>"
      ],
      "text/plain": [
       "<IPython.core.display.HTML object>"
      ]
     },
     "metadata": {},
     "output_type": "display_data"
    },
    {
     "data": {
      "text/html": [
       "<div>\n",
       "<style scoped>\n",
       "    .dataframe tbody tr th:only-of-type {\n",
       "        vertical-align: middle;\n",
       "    }\n",
       "\n",
       "    .dataframe tbody tr th {\n",
       "        vertical-align: top;\n",
       "    }\n",
       "\n",
       "    .dataframe thead th {\n",
       "        text-align: right;\n",
       "    }\n",
       "</style>\n",
       "<table border=\"1\" class=\"dataframe\">\n",
       "  <thead>\n",
       "    <tr style=\"text-align: right;\">\n",
       "      <th></th>\n",
       "      <th>12482</th>\n",
       "    </tr>\n",
       "  </thead>\n",
       "  <tbody>\n",
       "    <tr>\n",
       "      <th>discourse_id</th>\n",
       "      <td>cb93180d0b69</td>\n",
       "    </tr>\n",
       "    <tr>\n",
       "      <th>essay_id</th>\n",
       "      <td>E1BFD7E344FA</td>\n",
       "    </tr>\n",
       "    <tr>\n",
       "      <th>discourse_text</th>\n",
       "      <td>The last reason is how can we make it better.</td>\n",
       "    </tr>\n",
       "    <tr>\n",
       "      <th>discourse_type</th>\n",
       "      <td>Claim</td>\n",
       "    </tr>\n",
       "    <tr>\n",
       "      <th>discourse_effectiveness</th>\n",
       "      <td>Ineffective</td>\n",
       "    </tr>\n",
       "    <tr>\n",
       "      <th>sentence_length</th>\n",
       "      <td>10.00</td>\n",
       "    </tr>\n",
       "  </tbody>\n",
       "</table>\n",
       "</div>"
      ],
      "text/plain": [
       "                                                                  12482\n",
       "discourse_id                                               cb93180d0b69\n",
       "essay_id                                                   E1BFD7E344FA\n",
       "discourse_text           The last reason is how can we make it better. \n",
       "discourse_type                                                    Claim\n",
       "discourse_effectiveness                                     Ineffective\n",
       "sentence_length                                                   10.00"
      ]
     },
     "execution_count": 48,
     "metadata": {},
     "output_type": "execute_result"
    }
   ],
   "source": [
    "display(HTML(\"<h3>Random Selection with Average Sentence Lengths</h3>\"))\n",
    "fe.random_discourse"
   ]
  }
 ],
 "metadata": {
  "kernelspec": {
   "display_name": "Python 3.8.13 ('aes')",
   "language": "python",
   "name": "python3"
  },
  "language_info": {
   "codemirror_mode": {
    "name": "ipython",
    "version": 3
   },
   "file_extension": ".py",
   "mimetype": "text/x-python",
   "name": "python",
   "nbconvert_exporter": "python",
   "pygments_lexer": "ipython3",
   "version": "3.8.13"
  },
  "orig_nbformat": 4,
  "vscode": {
   "interpreter": {
    "hash": "634215c1768fe5e7f4dff3c32019033fc4260ccb6bad5e9329bf88c312891f8c"
   }
  }
 },
 "nbformat": 4,
 "nbformat_minor": 2
}
