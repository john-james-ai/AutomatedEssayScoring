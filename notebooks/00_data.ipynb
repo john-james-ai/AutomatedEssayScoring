{
 "cells": [
  {
   "cell_type": "markdown",
   "metadata": {},
   "source": [
    "# Data  <a class=\"anchor\" id=\"data-overview\"></a>\n",
    "These data have been provided by the Georgia State University and the Learning Agency Lab for the Kaggle competition, “Feedback Prize – Predicting Effective Arguments”, They contain argumentative essays written by U.S. students in grades 6-12. Each essay has been annotated with discourse elements  commonly found in argumentative writing:\n",
    "- Lead - an introduction that begins with a statistic, a quotation, a description, or some other device to grab the reader’s attention and point toward the thesis\n",
    "- Position - an opinion or conclusion on the main question\n",
    "- Claim - a claim that supports the position\n",
    "- Counterclaim - a claim that refutes another claim or gives an opposing reason to the position\n",
    "- Rebuttal - a claim that refutes a counterclaim\n",
    "- Evidence - ideas or examples that support claims, counterclaims, or rebuttals.\n",
    "- Concluding Statement - a concluding statement that restates the claims\n",
    "\n",
    "The text classification task is to predict the quality of each discourse within each essay as one of:\n",
    "- Ineffective\n",
    "- Adequate\n",
    "- Effective\n",
    "\n",
    "The dataset is comprised of training data and example test data.\n",
    "\n",
    "**Training Data**\n",
    "The training dataset consists of a .csv file and a directory containing the full-text essays. Note, that parts of the full-text essays are not annotated and are not part of the training.csv file. Annotated discourse elements for each essay, including:     \n",
    "- discourse_id - ID code for discourse element     \n",
    "- essay_id - ID code for essay response. This ID code corresponds to the name of the full-text file in the train/ folder.     \n",
    "- discourse_text - Text of discourse element.     \n",
    "- discourse_type - Class label of discourse element.     \n",
    "- discourse_type_num - Enumerated class label of discourse element.   \n",
    "- discourse_effectiveness - Quality rating of discourse element, the target.      \n",
    "\n",
    "**Example Test Data**\n",
    "The example test data consists of:    \n",
    "- test/ - A folder containing an example essay from the test set. The actual test set comprises about 3,000 essays in a format similar to the training set essays.    \n",
    "- test.csv - Annotations for the test set essays, containing all of the fields of train.csv except the target, discourse_effectiveness.   \n",
    "- sample_submission.csv - A sample submission file in the correct format.    "
   ]
  },
  {
   "cell_type": "markdown",
   "metadata": {},
   "source": [
    "### Parameters <a class=\"anchor\" id=\"parameters\"></a>"
   ]
  },
  {
   "cell_type": "code",
   "execution_count": 1,
   "metadata": {},
   "outputs": [],
   "source": []
  },
  {
   "cell_type": "markdown",
   "metadata": {},
   "source": [
    "### Package Dependency Installation <a class=\"anchor\" id=\"installation\"></a>"
   ]
  },
  {
   "cell_type": "code",
   "execution_count": 2,
   "metadata": {},
   "outputs": [],
   "source": [
    "# Uncomment to install required packages\n",
    "#%%capture\n",
    "# !conda install -S -q -c conda-forge -y pandas\n",
    "# !conda install -S -q -c conda-forge -y matplotlib\n",
    "# !conda install -S -q -c conda-forge -y numpy\n",
    "# !conda install -S -q -c conda-forge -y nltk\n",
    "# !conda install -S -q -c conda-forge -y seaborn\n",
    "# !conda install -S -q -c conda-forge -y scikit-learn\n",
    "# !conda install -S -q -c conda-forge -y gensim\n",
    "# !conda install -S -q -c conda-forge -y pyldavis\n",
    "# !conda install -S -q -c conda-forge -y wordcloud\n",
    "# !conda install -S -q -c conda-forge -y textblob\n",
    "# !conda install -S -q -c conda-forge -y spacy\n",
    "# !conda install -S -q -c conda-forge -y textstat\n"
   ]
  },
  {
   "cell_type": "markdown",
   "metadata": {},
   "source": [
    "### Package Imports <a class=\"anchor\" id=\"packages\"></a>"
   ]
  },
  {
   "cell_type": "code",
   "execution_count": 3,
   "metadata": {},
   "outputs": [
    {
     "name": "stderr",
     "output_type": "stream",
     "text": [
      "/home/john/anaconda3/envs/fpe/lib/python3.8/site-packages/scipy/__init__.py:146: UserWarning: A NumPy version >=1.16.5 and <1.23.0 is required for this version of SciPy (detected version 1.23.1\n",
      "  warnings.warn(f\"A NumPy version >={np_minversion} and <{np_maxversion}\"\n"
     ]
    }
   ],
   "source": [
    "import pandas as pd\n",
    "import numpy as np\n",
    "import matplotlib.pyplot as plt\n",
    "import seaborn as sns\n",
    "import logging\n",
    "import logging.config\n",
    "import nltk\n",
    "from IPython.display import display, HTML\n",
    "# import spacy\n",
    "# import os\n",
    "# import unicodedata\n",
    "# import sklearn as skl\n",
    "# import gensim\n",
    "# import pyLDAvis\n",
    "# import wordcloud\n",
    "# import textblob\n",
    "# import textstat"
   ]
  },
  {
   "cell_type": "markdown",
   "metadata": {},
   "source": [
    "### Module Imports <a class=\"anchor\" id=\"modules\"></a>"
   ]
  },
  {
   "cell_type": "code",
   "execution_count": 4,
   "metadata": {},
   "outputs": [],
   "source": [
    "# Local Imports \n",
    "from fpe.utils.log_config import LOG_CONFIG\n",
    "from fpe.data.profile import TextProfiler, FeatureExtractor\n",
    "from fpe.utils.pprint import print_int as pint\n",
    "from fpe.utils.pprint import print_float as pfloat\n",
    "%matplotlib inline"
   ]
  },
  {
   "cell_type": "markdown",
   "metadata": {},
   "source": [
    "### Configurations <a class=\"anchor\" id=\"config\"></a>"
   ]
  },
  {
   "cell_type": "code",
   "execution_count": 5,
   "metadata": {},
   "outputs": [
    {
     "name": "stderr",
     "output_type": "stream",
     "text": [
      "[nltk_data] Downloading package punkt to /home/john/nltk_data...\n",
      "[nltk_data]   Package punkt is already up-to-date!\n"
     ]
    },
    {
     "data": {
      "text/plain": [
       "True"
      ]
     },
     "execution_count": 5,
     "metadata": {},
     "output_type": "execute_result"
    },
    {
     "name": "stderr",
     "output_type": "stream",
     "text": [
      "[nltk_data] Downloading package stopwords to /home/john/nltk_data...\n",
      "[nltk_data]   Package stopwords is already up-to-date!\n"
     ]
    },
    {
     "data": {
      "text/plain": [
       "True"
      ]
     },
     "execution_count": 5,
     "metadata": {},
     "output_type": "execute_result"
    }
   ],
   "source": [
    "# Package specific dependencies\n",
    "logging.config.dictConfig(LogConfig().config)\n",
    "logger = logging.getLogger(__name__)\n",
    "\n",
    "# Seaborn\n",
    "sns.set_palette(\"Blues_r\")\n",
    "sns.set_style(\"whitegrid\")\n",
    "\n",
    "# NLTK \n",
    "if not os.path.exists(NLTK_PUNKT_DIR):\n",
    "    nltk.download('punkt')\n",
    "if not os.path.exists(NLTK_STOPWORDS_DIR):\n",
    "    nltk.download('stopwords')\n",
    "\n",
    "# Pandas\n",
    "pd.options.display.float_format = '{:,.2f}'.format\n",
    "pd.set_option(\"display.max_rows\", 100)\n",
    "pd.set_option(\"display.max_columns\", 20)\n",
    "pd.set_option(\"display.max_colwidth\", 5000)\n"
   ]
  },
  {
   "cell_type": "markdown",
   "metadata": {},
   "source": [
    "## Data Inspection <a class=\"anchor\" id=\"inspect\"></a>\n",
    "Our intent with this inspection of the training set is to get a sense of the features and quality of the data. Here, we examine cardinality, character, word, and sentence counts, special characters, and any aspects having text preprocessing implications. Let's read the data."
   ]
  },
  {
   "cell_type": "code",
   "execution_count": 6,
   "metadata": {},
   "outputs": [],
   "source": [
    "fpe = pd.read_csv(RAW_TRAIN_DISCOURSE, encoding='utf-8')\n"
   ]
  },
  {
   "cell_type": "markdown",
   "metadata": {},
   "source": [
    "### Overview <a class=\"anchor\" id=\"overview\"></a>\n",
    "The essential dataset is the train.csv file, containing discourse and essay identifiers, the discourse text, the discourse type, and finally the rating."
   ]
  },
  {
   "cell_type": "code",
   "execution_count": 7,
   "metadata": {},
   "outputs": [
    {
     "data": {
      "text/html": [
       "<div>\n",
       "<style scoped>\n",
       "    .dataframe tbody tr th:only-of-type {\n",
       "        vertical-align: middle;\n",
       "    }\n",
       "\n",
       "    .dataframe tbody tr th {\n",
       "        vertical-align: top;\n",
       "    }\n",
       "\n",
       "    .dataframe thead th {\n",
       "        text-align: right;\n",
       "    }\n",
       "</style>\n",
       "<table border=\"1\" class=\"dataframe\">\n",
       "  <thead>\n",
       "    <tr style=\"text-align: right;\">\n",
       "      <th></th>\n",
       "      <th>discourse_id</th>\n",
       "      <th>essay_id</th>\n",
       "      <th>discourse_text</th>\n",
       "      <th>discourse_type</th>\n",
       "      <th>discourse_effectiveness</th>\n",
       "    </tr>\n",
       "  </thead>\n",
       "  <tbody>\n",
       "    <tr>\n",
       "      <th>0</th>\n",
       "      <td>0013cc385424</td>\n",
       "      <td>007ACE74B050</td>\n",
       "      <td>Hi, i'm Isaac, i'm going to be writing about how this face on Mars is a natural landform or if there is life on Mars that made it. The story is about how NASA took a picture of Mars and a face was seen on the planet. NASA doesn't know if the landform was created by life on Mars, or if it is just a natural landform.</td>\n",
       "      <td>Lead</td>\n",
       "      <td>Adequate</td>\n",
       "    </tr>\n",
       "    <tr>\n",
       "      <th>1</th>\n",
       "      <td>9704a709b505</td>\n",
       "      <td>007ACE74B050</td>\n",
       "      <td>On my perspective, I think that the face is a natural landform because I dont think that there is any life on Mars. In these next few paragraphs, I'll be talking about how I think that is is a natural landform</td>\n",
       "      <td>Position</td>\n",
       "      <td>Adequate</td>\n",
       "    </tr>\n",
       "    <tr>\n",
       "      <th>2</th>\n",
       "      <td>c22adee811b6</td>\n",
       "      <td>007ACE74B050</td>\n",
       "      <td>I think that the face is a natural landform because there is no life on Mars that we have descovered yet</td>\n",
       "      <td>Claim</td>\n",
       "      <td>Adequate</td>\n",
       "    </tr>\n",
       "    <tr>\n",
       "      <th>3</th>\n",
       "      <td>a10d361e54e4</td>\n",
       "      <td>007ACE74B050</td>\n",
       "      <td>If life was on Mars, we would know by now. The reason why I think it is a natural landform because, nobody live on Mars in order to create the figure. It says in paragraph 9, \"It's not easy to target Cydonia,\" in which he is saying that its not easy to know if it is a natural landform at this point. In all that they're saying, its probably a natural landform.</td>\n",
       "      <td>Evidence</td>\n",
       "      <td>Adequate</td>\n",
       "    </tr>\n",
       "    <tr>\n",
       "      <th>4</th>\n",
       "      <td>db3e453ec4e2</td>\n",
       "      <td>007ACE74B050</td>\n",
       "      <td>People thought that the face was formed by alieans because they thought that there was life on Mars.</td>\n",
       "      <td>Counterclaim</td>\n",
       "      <td>Adequate</td>\n",
       "    </tr>\n",
       "  </tbody>\n",
       "</table>\n",
       "</div>"
      ],
      "text/plain": [
       "   discourse_id      essay_id  \\\n",
       "0  0013cc385424  007ACE74B050   \n",
       "1  9704a709b505  007ACE74B050   \n",
       "2  c22adee811b6  007ACE74B050   \n",
       "3  a10d361e54e4  007ACE74B050   \n",
       "4  db3e453ec4e2  007ACE74B050   \n",
       "\n",
       "                                                                                                                                                                                                                                                                                                                                                               discourse_text  \\\n",
       "0                                               Hi, i'm Isaac, i'm going to be writing about how this face on Mars is a natural landform or if there is life on Mars that made it. The story is about how NASA took a picture of Mars and a face was seen on the planet. NASA doesn't know if the landform was created by life on Mars, or if it is just a natural landform.    \n",
       "1                                                                                                                                                          On my perspective, I think that the face is a natural landform because I dont think that there is any life on Mars. In these next few paragraphs, I'll be talking about how I think that is is a natural landform    \n",
       "2                                                                                                                                                                                                                                                                   I think that the face is a natural landform because there is no life on Mars that we have descovered yet    \n",
       "3  If life was on Mars, we would know by now. The reason why I think it is a natural landform because, nobody live on Mars in order to create the figure. It says in paragraph 9, \"It's not easy to target Cydonia,\" in which he is saying that its not easy to know if it is a natural landform at this point. In all that they're saying, its probably a natural landform.    \n",
       "4                                                                                                                                                                                                                                                                       People thought that the face was formed by alieans because they thought that there was life on Mars.    \n",
       "\n",
       "  discourse_type discourse_effectiveness  \n",
       "0           Lead                Adequate  \n",
       "1       Position                Adequate  \n",
       "2          Claim                Adequate  \n",
       "3       Evidence                Adequate  \n",
       "4   Counterclaim                Adequate  "
      ]
     },
     "execution_count": 7,
     "metadata": {},
     "output_type": "execute_result"
    }
   ],
   "source": [
    "fpe.head()"
   ]
  },
  {
   "cell_type": "markdown",
   "metadata": {},
   "source": [
    "### Cardinality <a class=\"anchor\" id=\"cardinality\"></a>\n",
    "Let's check the cardinality of discourses, essays, texts, types, and effectiveness ratings. From this point forward, we'll use our TextProfiler object to extract features from the data."
   ]
  },
  {
   "cell_type": "code",
   "execution_count": 8,
   "metadata": {},
   "outputs": [
    {
     "data": {
      "text/html": [
       "<div>\n",
       "<style scoped>\n",
       "    .dataframe tbody tr th:only-of-type {\n",
       "        vertical-align: middle;\n",
       "    }\n",
       "\n",
       "    .dataframe tbody tr th {\n",
       "        vertical-align: top;\n",
       "    }\n",
       "\n",
       "    .dataframe thead th {\n",
       "        text-align: right;\n",
       "    }\n",
       "</style>\n",
       "<table border=\"1\" class=\"dataframe\">\n",
       "  <thead>\n",
       "    <tr style=\"text-align: right;\">\n",
       "      <th></th>\n",
       "      <th>Cardinality</th>\n",
       "    </tr>\n",
       "  </thead>\n",
       "  <tbody>\n",
       "    <tr>\n",
       "      <th>discourse_id</th>\n",
       "      <td>36765</td>\n",
       "    </tr>\n",
       "    <tr>\n",
       "      <th>essay_id</th>\n",
       "      <td>4191</td>\n",
       "    </tr>\n",
       "    <tr>\n",
       "      <th>discourse_text</th>\n",
       "      <td>36691</td>\n",
       "    </tr>\n",
       "    <tr>\n",
       "      <th>discourse_type</th>\n",
       "      <td>7</td>\n",
       "    </tr>\n",
       "    <tr>\n",
       "      <th>discourse_effectiveness</th>\n",
       "      <td>3</td>\n",
       "    </tr>\n",
       "  </tbody>\n",
       "</table>\n",
       "</div>"
      ],
      "text/plain": [
       "                         Cardinality\n",
       "discourse_id                   36765\n",
       "essay_id                        4191\n",
       "discourse_text                 36691\n",
       "discourse_type                     7\n",
       "discourse_effectiveness            3"
      ]
     },
     "execution_count": 8,
     "metadata": {},
     "output_type": "execute_result"
    }
   ],
   "source": [
    "profiler = TextProfiler(data=fpe, text_col='discourse_text')\n",
    "profiler.cardinality"
   ]
  },
  {
   "cell_type": "markdown",
   "metadata": {},
   "source": [
    "It seems we have some duplication in discourse text as we have 74 fewer unique essays than discourse identifiers. Let's examine this a bit closer."
   ]
  },
  {
   "cell_type": "code",
   "execution_count": 9,
   "metadata": {},
   "outputs": [
    {
     "data": {
      "text/html": [
       "<div>\n",
       "<style scoped>\n",
       "    .dataframe tbody tr th:only-of-type {\n",
       "        vertical-align: middle;\n",
       "    }\n",
       "\n",
       "    .dataframe tbody tr th {\n",
       "        vertical-align: top;\n",
       "    }\n",
       "\n",
       "    .dataframe thead th {\n",
       "        text-align: right;\n",
       "    }\n",
       "</style>\n",
       "<table border=\"1\" class=\"dataframe\">\n",
       "  <thead>\n",
       "    <tr style=\"text-align: right;\">\n",
       "      <th></th>\n",
       "      <th>Num Duplicates</th>\n",
       "      <th>Pct Duplicates</th>\n",
       "    </tr>\n",
       "    <tr>\n",
       "      <th>Column</th>\n",
       "      <th></th>\n",
       "      <th></th>\n",
       "    </tr>\n",
       "  </thead>\n",
       "  <tbody>\n",
       "    <tr>\n",
       "      <th>discourse_text</th>\n",
       "      <td>119</td>\n",
       "      <td>0.32</td>\n",
       "    </tr>\n",
       "  </tbody>\n",
       "</table>\n",
       "</div>"
      ],
      "text/plain": [
       "                Num Duplicates  Pct Duplicates\n",
       "Column                                        \n",
       "discourse_text             119            0.32"
      ]
     },
     "execution_count": 9,
     "metadata": {},
     "output_type": "execute_result"
    },
    {
     "data": {
      "text/plain": [
       "296      The use of the Facial Action Coding System to read the emotional expressions of students in a classroom is valuable \n",
       "370                                                                               Summer projects should be teacher-designed \n",
       "1009                                                                              Summer projects should be teacher-designed \n",
       "1552                                                                              Summer projects should be teacher-designed \n",
       "1667                                                                              Summer projects should be student-designed \n",
       "                                                                 ...                                                         \n",
       "35488                                                                                                   you can help others. \n",
       "35493                                                                                                   you can help others. \n",
       "35969                                                                                                              opinions, \n",
       "35973                                                                                                              opinions, \n",
       "36587                                               When people ask for advice, they sometimes talk to more than one person. \n",
       "Name: discourse_text, Length: 119, dtype: object"
      ]
     },
     "execution_count": 9,
     "metadata": {},
     "output_type": "execute_result"
    }
   ],
   "source": [
    "profiler.duplicate_text['stats']\n",
    "profiler.duplicate_text['data']\n"
   ]
  },
  {
   "cell_type": "markdown",
   "metadata": {},
   "source": [
    "We have over one hundred duplicates, counting all records that are duplicate. A small proportion; yet, we'll need to deal with these duplicates during the preprocessing stage."
   ]
  },
  {
   "cell_type": "markdown",
   "metadata": {},
   "source": [
    "### Value Counts <a class=\"anchor\" id=\"value_counts\"></a>\n",
    "Here we examine the distribution of discourse types and effectiveness ratings."
   ]
  },
  {
   "cell_type": "markdown",
   "metadata": {},
   "source": [
    "#### Discourse Types"
   ]
  },
  {
   "cell_type": "code",
   "execution_count": 10,
   "metadata": {},
   "outputs": [
    {
     "data": {
      "text/html": [
       "<div>\n",
       "<style scoped>\n",
       "    .dataframe tbody tr th:only-of-type {\n",
       "        vertical-align: middle;\n",
       "    }\n",
       "\n",
       "    .dataframe tbody tr th {\n",
       "        vertical-align: top;\n",
       "    }\n",
       "\n",
       "    .dataframe thead th {\n",
       "        text-align: right;\n",
       "    }\n",
       "</style>\n",
       "<table border=\"1\" class=\"dataframe\">\n",
       "  <thead>\n",
       "    <tr style=\"text-align: right;\">\n",
       "      <th></th>\n",
       "      <th>discourse_type_count</th>\n",
       "      <th>discourse_type_ratio</th>\n",
       "    </tr>\n",
       "  </thead>\n",
       "  <tbody>\n",
       "    <tr>\n",
       "      <th>Evidence</th>\n",
       "      <td>12105</td>\n",
       "      <td>0.33</td>\n",
       "    </tr>\n",
       "    <tr>\n",
       "      <th>Claim</th>\n",
       "      <td>11977</td>\n",
       "      <td>0.33</td>\n",
       "    </tr>\n",
       "    <tr>\n",
       "      <th>Position</th>\n",
       "      <td>4024</td>\n",
       "      <td>0.11</td>\n",
       "    </tr>\n",
       "    <tr>\n",
       "      <th>Concluding Statement</th>\n",
       "      <td>3351</td>\n",
       "      <td>0.09</td>\n",
       "    </tr>\n",
       "    <tr>\n",
       "      <th>Lead</th>\n",
       "      <td>2291</td>\n",
       "      <td>0.06</td>\n",
       "    </tr>\n",
       "    <tr>\n",
       "      <th>Counterclaim</th>\n",
       "      <td>1773</td>\n",
       "      <td>0.05</td>\n",
       "    </tr>\n",
       "    <tr>\n",
       "      <th>Rebuttal</th>\n",
       "      <td>1244</td>\n",
       "      <td>0.03</td>\n",
       "    </tr>\n",
       "  </tbody>\n",
       "</table>\n",
       "</div>"
      ],
      "text/plain": [
       "                      discourse_type_count  discourse_type_ratio\n",
       "Evidence                             12105                  0.33\n",
       "Claim                                11977                  0.33\n",
       "Position                              4024                  0.11\n",
       "Concluding Statement                  3351                  0.09\n",
       "Lead                                  2291                  0.06\n",
       "Counterclaim                          1773                  0.05\n",
       "Rebuttal                              1244                  0.03"
      ]
     },
     "execution_count": 10,
     "metadata": {},
     "output_type": "execute_result"
    },
    {
     "data": {
      "image/png": "[encoded data removed]",
      "text/plain": [
       "<Figure size 864x288 with 1 Axes>"
      ]
     },
     "metadata": {},
     "output_type": "display_data"
    }
   ],
   "source": [
    "fig = sns.displot(fpe['discourse_type'], height=FIG_HEIGHT, aspect=FIG_ASPECT)\n",
    "profiler.value_counts(col='discourse_type')\n"
   ]
  },
  {
   "cell_type": "markdown",
   "metadata": {},
   "source": [
    "About 2/3rd of the essays contain claim and evidence discourse types. The fact that 89% of the argument papers fail to state a position (according to annotators) raises quality of education issues, but that's a topic for another paper."
   ]
  },
  {
   "cell_type": "markdown",
   "metadata": {},
   "source": [
    "#### Effectiveness Ratings "
   ]
  },
  {
   "cell_type": "code",
   "execution_count": 11,
   "metadata": {},
   "outputs": [
    {
     "data": {
      "text/html": [
       "<div>\n",
       "<style scoped>\n",
       "    .dataframe tbody tr th:only-of-type {\n",
       "        vertical-align: middle;\n",
       "    }\n",
       "\n",
       "    .dataframe tbody tr th {\n",
       "        vertical-align: top;\n",
       "    }\n",
       "\n",
       "    .dataframe thead th {\n",
       "        text-align: right;\n",
       "    }\n",
       "</style>\n",
       "<table border=\"1\" class=\"dataframe\">\n",
       "  <thead>\n",
       "    <tr style=\"text-align: right;\">\n",
       "      <th></th>\n",
       "      <th>discourse_effectiveness_count</th>\n",
       "      <th>discourse_effectiveness_ratio</th>\n",
       "    </tr>\n",
       "  </thead>\n",
       "  <tbody>\n",
       "    <tr>\n",
       "      <th>Adequate</th>\n",
       "      <td>20977</td>\n",
       "      <td>0.57</td>\n",
       "    </tr>\n",
       "    <tr>\n",
       "      <th>Effective</th>\n",
       "      <td>9326</td>\n",
       "      <td>0.25</td>\n",
       "    </tr>\n",
       "    <tr>\n",
       "      <th>Ineffective</th>\n",
       "      <td>6462</td>\n",
       "      <td>0.18</td>\n",
       "    </tr>\n",
       "  </tbody>\n",
       "</table>\n",
       "</div>"
      ],
      "text/plain": [
       "             discourse_effectiveness_count  discourse_effectiveness_ratio\n",
       "Adequate                             20977                           0.57\n",
       "Effective                             9326                           0.25\n",
       "Ineffective                           6462                           0.18"
      ]
     },
     "execution_count": 11,
     "metadata": {},
     "output_type": "execute_result"
    },
    {
     "data": {
      "image/png": "[encoded data removed]",
      "text/plain": [
       "<Figure size 864x288 with 1 Axes>"
      ]
     },
     "metadata": {},
     "output_type": "display_data"
    }
   ],
   "source": [
    "fig = sns.displot(fpe['discourse_effectiveness'], height=FIG_HEIGHT, aspect=FIG_ASPECT)\n",
    "profiler.value_counts(col='discourse_effectiveness')"
   ]
  },
  {
   "cell_type": "markdown",
   "metadata": {},
   "source": [
    "Well, in Lake Wobegon, all the children are above average."
   ]
  },
  {
   "cell_type": "markdown",
   "metadata": {},
   "source": [
    "### Null Values <a class=\"anchor\" id=\"nulls\"></a>"
   ]
  },
  {
   "cell_type": "code",
   "execution_count": 12,
   "metadata": {},
   "outputs": [
    {
     "data": {
      "text/plain": [
       "discourse_id               0\n",
       "essay_id                   0\n",
       "discourse_text             0\n",
       "discourse_type             0\n",
       "discourse_effectiveness    0\n",
       "dtype: int64"
      ]
     },
     "execution_count": 12,
     "metadata": {},
     "output_type": "execute_result"
    }
   ],
   "source": [
    "fpe.isnull().sum()"
   ]
  },
  {
   "cell_type": "markdown",
   "metadata": {},
   "source": [
    "### Memory Size <a class=\"anchor\" id=\"memory\"></a>"
   ]
  },
  {
   "cell_type": "code",
   "execution_count": 13,
   "metadata": {},
   "outputs": [
    {
     "data": {
      "text/html": [
       "<style type=\"text/css\">\n",
       "</style>\n",
       "<table id=\"T_1481d\">\n",
       "  <thead>\n",
       "    <tr>\n",
       "      <th class=\"blank level0\" >&nbsp;</th>\n",
       "      <th id=\"T_1481d_level0_col0\" class=\"col_heading level0 col0\" >Column</th>\n",
       "      <th id=\"T_1481d_level0_col1\" class=\"col_heading level0 col1\" >Memory (Bytes)</th>\n",
       "    </tr>\n",
       "  </thead>\n",
       "  <tbody>\n",
       "    <tr>\n",
       "      <th id=\"T_1481d_level0_row0\" class=\"row_heading level0 row0\" >0</th>\n",
       "      <td id=\"T_1481d_row0_col0\" class=\"data row0 col0\" >discourse_id</td>\n",
       "      <td id=\"T_1481d_row0_col1\" class=\"data row0 col1\" >2,536,785</td>\n",
       "    </tr>\n",
       "    <tr>\n",
       "      <th id=\"T_1481d_level0_row1\" class=\"row_heading level0 row1\" >1</th>\n",
       "      <td id=\"T_1481d_row1_col0\" class=\"data row1 col0\" >essay_id</td>\n",
       "      <td id=\"T_1481d_row1_col1\" class=\"data row1 col1\" >2,536,785</td>\n",
       "    </tr>\n",
       "    <tr>\n",
       "      <th id=\"T_1481d_level0_row2\" class=\"row_heading level0 row2\" >2</th>\n",
       "      <td id=\"T_1481d_row2_col0\" class=\"data row2 col0\" >discourse_text</td>\n",
       "      <td id=\"T_1481d_row2_col1\" class=\"data row2 col1\" >12,537,564</td>\n",
       "    </tr>\n",
       "    <tr>\n",
       "      <th id=\"T_1481d_level0_row3\" class=\"row_heading level0 row3\" >3</th>\n",
       "      <td id=\"T_1481d_row3_col0\" class=\"data row3 col0\" >discourse_type</td>\n",
       "      <td id=\"T_1481d_row3_col1\" class=\"data row3 col1\" >2,391,934</td>\n",
       "    </tr>\n",
       "    <tr>\n",
       "      <th id=\"T_1481d_level0_row4\" class=\"row_heading level0 row4\" >4</th>\n",
       "      <td id=\"T_1481d_row4_col0\" class=\"data row4 col0\" >discourse_effectiveness</td>\n",
       "      <td id=\"T_1481d_row4_col1\" class=\"data row4 col1\" >2,418,437</td>\n",
       "    </tr>\n",
       "    <tr>\n",
       "      <th id=\"T_1481d_level0_row5\" class=\"row_heading level0 row5\" >6</th>\n",
       "      <td id=\"T_1481d_row5_col0\" class=\"data row5 col0\" >Total</td>\n",
       "      <td id=\"T_1481d_row5_col1\" class=\"data row5 col1\" >22,421,505</td>\n",
       "    </tr>\n",
       "  </tbody>\n",
       "</table>\n"
      ],
      "text/plain": [
       "<pandas.io.formats.style.Styler at 0x7f9738d39d30>"
      ]
     },
     "execution_count": 13,
     "metadata": {},
     "output_type": "execute_result"
    }
   ],
   "source": [
    "profiler.memory"
   ]
  },
  {
   "cell_type": "markdown",
   "metadata": {},
   "source": [
    "### Alphabetic Characters <a class=\"anchor\" id=\"alpha\"></a>"
   ]
  }
 ],
 "metadata": {
  "kernelspec": {
   "display_name": "Python 3.8.13 ('aes')",
   "language": "python",
   "name": "python3"
  },
  "language_info": {
   "codemirror_mode": {
    "name": "ipython",
    "version": 3
   },
   "file_extension": ".py",
   "mimetype": "text/x-python",
   "name": "python",
   "nbconvert_exporter": "python",
   "pygments_lexer": "ipython3",
   "version": "3.10.4"
  },
  "orig_nbformat": 4,
  "vscode": {
   "interpreter": {
    "hash": "634215c1768fe5e7f4dff3c32019033fc4260ccb6bad5e9329bf88c312891f8c"
   }
  }
 },
 "nbformat": 4,
 "nbformat_minor": 2
}
